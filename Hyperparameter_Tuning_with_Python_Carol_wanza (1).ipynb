{
  "nbformat": 4,
  "nbformat_minor": 0,
  "metadata": {
    "colab": {
      "name": " Hyperparameter Tuning with Python- Carol wanza",
      "provenance": [],
      "collapsed_sections": [],
      "toc_visible": true
    },
    "kernelspec": {
      "name": "python3",
      "display_name": "Python 3"
    },
    "language_info": {
      "name": "python"
    }
  },
  "cells": [
    {
      "cell_type": "markdown",
      "metadata": {
        "id": "IcGUDoSkBiT4"
      },
      "source": [
        "# <font color='#2F4F4F'>1. Defining the Question</font>"
      ]
    },
    {
      "cell_type": "markdown",
      "metadata": {
        "id": "6sg3Sq-kBiT5"
      },
      "source": [
        "### a) Specifying the Data Analysis Question\n",
        "\n",
        "As a Data Scientist working for Airbnb, you have been tasked to create a model that\n",
        "predicts Airbnb rental prices for the city of Amsterdam. Popularity for Airbnbs in\n",
        "Amsterdam has grown over the past years and you are required to build a solution the\n",
        "would make optimal predictions."
      ]
    },
    {
      "cell_type": "markdown",
      "metadata": {
        "id": "54AGppS1BiT6"
      },
      "source": [
        "### b) Defining the Metric for Success\n",
        "\n",
        "The metrics we will use to evaluate our model are RMSE and R2 scores."
      ]
    },
    {
      "cell_type": "markdown",
      "metadata": {
        "id": "In67Zlg2BiT7"
      },
      "source": [
        "### c) Understanding the Context \n",
        "\n",
        "Airbnb is an American vacation rental online marketplace company based in San\n",
        "Francisco, California, United States. Airbnb offers arrangement for lodging, primarily\n",
        "homestays, or tourism experiences. The company does not own any of the real estate\n",
        "listings, nor does it host events; it acts as a broker, receiving commissions from each\n",
        "booking."
      ]
    },
    {
      "cell_type": "markdown",
      "metadata": {
        "id": "VME7R5U9BiT8"
      },
      "source": [
        "### d) Recording the Experimental Design\n",
        "\n",
        "* Defining the Research Question\n",
        "* Data Importation\n",
        "* Data Exploration\n",
        "* Data Cleaning\n",
        "* Data Analysis (Univariate and Bivariate)\n",
        "* Data Preparation\n",
        "* Data Modeling\n",
        "* Model Evaluation\n",
        "* Challenging your Solution\n",
        "* Recommendations / Conclusion "
      ]
    },
    {
      "cell_type": "markdown",
      "metadata": {
        "id": "Ox4_7p-dBiT8"
      },
      "source": [
        "### e) Data Relevance\n",
        "\n",
        "The data provided was relevant to answering the research question."
      ]
    },
    {
      "cell_type": "markdown",
      "metadata": {
        "id": "C8P0JbeUBiT9"
      },
      "source": [
        "# <font color='#2F4F4F'>2. Data Cleaning & Preparation</font>"
      ]
    },
    {
      "cell_type": "code",
      "metadata": {
        "id": "7i0Z1TaoBiT-"
      },
      "source": [
        "# loading libraries\n",
        "import pandas as pd\n",
        "import numpy as np\n",
        "import matplotlib.pyplot as plt\n",
        "import seaborn as sns\n",
        "\n",
        "pd.set_option('display.max.columns', None)\n",
        "pd.set_option('display.max_colwidth', None)\n",
        "%matplotlib inline"
      ],
      "execution_count": 116,
      "outputs": []
    },
    {
      "cell_type": "code",
      "metadata": {
        "scrolled": true,
        "id": "hrt1AegqBiUD",
        "colab": {
          "base_uri": "https://localhost:8080/",
          "height": 416
        },
        "outputId": "86fe4f97-5b7f-4b27-e31c-07b8b8db39a9"
      },
      "source": [
        "# loading and previewing dataset\n",
        "df = pd.read_csv('listing_summary.csv')\n",
        "df.sample(3)"
      ],
      "execution_count": 117,
      "outputs": [
        {
          "output_type": "execute_result",
          "data": {
            "text/plain": [
              "             id                                               name    host_id  \\\n",
              "18639  41345471        An artistic jungle in the heart of the city  170022580   \n",
              "4101    8303293                                                NaN   17531663   \n",
              "13468  26160300  Spacious design loft on the canals in city centre  196626595   \n",
              "\n",
              "      host_name  neighbourhood_group           neighbourhood  latitude  \\\n",
              "18639    Irinna                  NaN            Centrum-West  52.37453   \n",
              "4101   Jan-Erik                  NaN  De Baarsjes - Oud-West  52.36526   \n",
              "13468   Laurine                  NaN            Centrum-Oost  52.36203   \n",
              "\n",
              "       longitude        room_type  price  minimum_nights  number_of_reviews  \\\n",
              "18639    4.89382  Entire home/apt    105               1                  3   \n",
              "4101     4.86400  Entire home/apt     90               2                  6   \n",
              "13468    4.90693  Entire home/apt    275               3                  8   \n",
              "\n",
              "      last_review  reviews_per_month  calculated_host_listings_count  \\\n",
              "18639  2020-03-15               0.95                               1   \n",
              "4101   2015-10-19               0.11                               1   \n",
              "13468  2019-08-14               0.38                               1   \n",
              "\n",
              "       availability_365  \n",
              "18639                 7  \n",
              "4101                  0  \n",
              "13468                25  "
            ],
            "text/html": [
              "\n",
              "  <div id=\"df-f54844c6-65c8-4004-8c56-0817a78b1998\">\n",
              "    <div class=\"colab-df-container\">\n",
              "      <div>\n",
              "<style scoped>\n",
              "    .dataframe tbody tr th:only-of-type {\n",
              "        vertical-align: middle;\n",
              "    }\n",
              "\n",
              "    .dataframe tbody tr th {\n",
              "        vertical-align: top;\n",
              "    }\n",
              "\n",
              "    .dataframe thead th {\n",
              "        text-align: right;\n",
              "    }\n",
              "</style>\n",
              "<table border=\"1\" class=\"dataframe\">\n",
              "  <thead>\n",
              "    <tr style=\"text-align: right;\">\n",
              "      <th></th>\n",
              "      <th>id</th>\n",
              "      <th>name</th>\n",
              "      <th>host_id</th>\n",
              "      <th>host_name</th>\n",
              "      <th>neighbourhood_group</th>\n",
              "      <th>neighbourhood</th>\n",
              "      <th>latitude</th>\n",
              "      <th>longitude</th>\n",
              "      <th>room_type</th>\n",
              "      <th>price</th>\n",
              "      <th>minimum_nights</th>\n",
              "      <th>number_of_reviews</th>\n",
              "      <th>last_review</th>\n",
              "      <th>reviews_per_month</th>\n",
              "      <th>calculated_host_listings_count</th>\n",
              "      <th>availability_365</th>\n",
              "    </tr>\n",
              "  </thead>\n",
              "  <tbody>\n",
              "    <tr>\n",
              "      <th>18639</th>\n",
              "      <td>41345471</td>\n",
              "      <td>An artistic jungle in the heart of the city</td>\n",
              "      <td>170022580</td>\n",
              "      <td>Irinna</td>\n",
              "      <td>NaN</td>\n",
              "      <td>Centrum-West</td>\n",
              "      <td>52.37453</td>\n",
              "      <td>4.89382</td>\n",
              "      <td>Entire home/apt</td>\n",
              "      <td>105</td>\n",
              "      <td>1</td>\n",
              "      <td>3</td>\n",
              "      <td>2020-03-15</td>\n",
              "      <td>0.95</td>\n",
              "      <td>1</td>\n",
              "      <td>7</td>\n",
              "    </tr>\n",
              "    <tr>\n",
              "      <th>4101</th>\n",
              "      <td>8303293</td>\n",
              "      <td>NaN</td>\n",
              "      <td>17531663</td>\n",
              "      <td>Jan-Erik</td>\n",
              "      <td>NaN</td>\n",
              "      <td>De Baarsjes - Oud-West</td>\n",
              "      <td>52.36526</td>\n",
              "      <td>4.86400</td>\n",
              "      <td>Entire home/apt</td>\n",
              "      <td>90</td>\n",
              "      <td>2</td>\n",
              "      <td>6</td>\n",
              "      <td>2015-10-19</td>\n",
              "      <td>0.11</td>\n",
              "      <td>1</td>\n",
              "      <td>0</td>\n",
              "    </tr>\n",
              "    <tr>\n",
              "      <th>13468</th>\n",
              "      <td>26160300</td>\n",
              "      <td>Spacious design loft on the canals in city centre</td>\n",
              "      <td>196626595</td>\n",
              "      <td>Laurine</td>\n",
              "      <td>NaN</td>\n",
              "      <td>Centrum-Oost</td>\n",
              "      <td>52.36203</td>\n",
              "      <td>4.90693</td>\n",
              "      <td>Entire home/apt</td>\n",
              "      <td>275</td>\n",
              "      <td>3</td>\n",
              "      <td>8</td>\n",
              "      <td>2019-08-14</td>\n",
              "      <td>0.38</td>\n",
              "      <td>1</td>\n",
              "      <td>25</td>\n",
              "    </tr>\n",
              "  </tbody>\n",
              "</table>\n",
              "</div>\n",
              "      <button class=\"colab-df-convert\" onclick=\"convertToInteractive('df-f54844c6-65c8-4004-8c56-0817a78b1998')\"\n",
              "              title=\"Convert this dataframe to an interactive table.\"\n",
              "              style=\"display:none;\">\n",
              "        \n",
              "  <svg xmlns=\"http://www.w3.org/2000/svg\" height=\"24px\"viewBox=\"0 0 24 24\"\n",
              "       width=\"24px\">\n",
              "    <path d=\"M0 0h24v24H0V0z\" fill=\"none\"/>\n",
              "    <path d=\"M18.56 5.44l.94 2.06.94-2.06 2.06-.94-2.06-.94-.94-2.06-.94 2.06-2.06.94zm-11 1L8.5 8.5l.94-2.06 2.06-.94-2.06-.94L8.5 2.5l-.94 2.06-2.06.94zm10 10l.94 2.06.94-2.06 2.06-.94-2.06-.94-.94-2.06-.94 2.06-2.06.94z\"/><path d=\"M17.41 7.96l-1.37-1.37c-.4-.4-.92-.59-1.43-.59-.52 0-1.04.2-1.43.59L10.3 9.45l-7.72 7.72c-.78.78-.78 2.05 0 2.83L4 21.41c.39.39.9.59 1.41.59.51 0 1.02-.2 1.41-.59l7.78-7.78 2.81-2.81c.8-.78.8-2.07 0-2.86zM5.41 20L4 18.59l7.72-7.72 1.47 1.35L5.41 20z\"/>\n",
              "  </svg>\n",
              "      </button>\n",
              "      \n",
              "  <style>\n",
              "    .colab-df-container {\n",
              "      display:flex;\n",
              "      flex-wrap:wrap;\n",
              "      gap: 12px;\n",
              "    }\n",
              "\n",
              "    .colab-df-convert {\n",
              "      background-color: #E8F0FE;\n",
              "      border: none;\n",
              "      border-radius: 50%;\n",
              "      cursor: pointer;\n",
              "      display: none;\n",
              "      fill: #1967D2;\n",
              "      height: 32px;\n",
              "      padding: 0 0 0 0;\n",
              "      width: 32px;\n",
              "    }\n",
              "\n",
              "    .colab-df-convert:hover {\n",
              "      background-color: #E2EBFA;\n",
              "      box-shadow: 0px 1px 2px rgba(60, 64, 67, 0.3), 0px 1px 3px 1px rgba(60, 64, 67, 0.15);\n",
              "      fill: #174EA6;\n",
              "    }\n",
              "\n",
              "    [theme=dark] .colab-df-convert {\n",
              "      background-color: #3B4455;\n",
              "      fill: #D2E3FC;\n",
              "    }\n",
              "\n",
              "    [theme=dark] .colab-df-convert:hover {\n",
              "      background-color: #434B5C;\n",
              "      box-shadow: 0px 1px 3px 1px rgba(0, 0, 0, 0.15);\n",
              "      filter: drop-shadow(0px 1px 2px rgba(0, 0, 0, 0.3));\n",
              "      fill: #FFFFFF;\n",
              "    }\n",
              "  </style>\n",
              "\n",
              "      <script>\n",
              "        const buttonEl =\n",
              "          document.querySelector('#df-f54844c6-65c8-4004-8c56-0817a78b1998 button.colab-df-convert');\n",
              "        buttonEl.style.display =\n",
              "          google.colab.kernel.accessAllowed ? 'block' : 'none';\n",
              "\n",
              "        async function convertToInteractive(key) {\n",
              "          const element = document.querySelector('#df-f54844c6-65c8-4004-8c56-0817a78b1998');\n",
              "          const dataTable =\n",
              "            await google.colab.kernel.invokeFunction('convertToInteractive',\n",
              "                                                     [key], {});\n",
              "          if (!dataTable) return;\n",
              "\n",
              "          const docLinkHtml = 'Like what you see? Visit the ' +\n",
              "            '<a target=\"_blank\" href=https://colab.research.google.com/notebooks/data_table.ipynb>data table notebook</a>'\n",
              "            + ' to learn more about interactive tables.';\n",
              "          element.innerHTML = '';\n",
              "          dataTable['output_type'] = 'display_data';\n",
              "          await google.colab.output.renderOutput(dataTable, element);\n",
              "          const docLink = document.createElement('div');\n",
              "          docLink.innerHTML = docLinkHtml;\n",
              "          element.appendChild(docLink);\n",
              "        }\n",
              "      </script>\n",
              "    </div>\n",
              "  </div>\n",
              "  "
            ]
          },
          "metadata": {},
          "execution_count": 117
        }
      ]
    },
    {
      "cell_type": "code",
      "metadata": {
        "id": "8nHmaa4tBiUL",
        "colab": {
          "base_uri": "https://localhost:8080/",
          "height": 661
        },
        "outputId": "ad1f953c-5ed7-40d3-8f19-bd71be78ecf2"
      },
      "source": [
        "# loading glossary\n",
        "glossary = pd.read_csv('Glossary - Sheet1 (1).csv', header = None)\n",
        "glossary"
      ],
      "execution_count": 118,
      "outputs": [
        {
          "output_type": "execute_result",
          "data": {
            "text/plain": [
              "                                                                                                                                                                                                                                                                                                                                                                                                                 0\n",
              "0                                                                                                                                                                                                                                                                                                                                                          room_id: A unique number identifying an Airbnb listing.\n",
              "1                                                                                                                                                                                                                                                                                                                                                             host_id: A unique number identifying an Airbnb host.\n",
              "2                                                                                                                                                                                                                                                                 neighborhood: A subregion of the city or search area for which the survey is carried out. For some cities there is no neighbourhood information.\n",
              "3                                                                                                                                                                                                                                                                                                                                           room_type: One of “Entire home/apt”, “Private room”, or “Shared room”.\n",
              "4                                                                                                                                                                                                                                                                                                                             host_response_rate: The rate at which the particular host responds to the customers.\n",
              "5                                                                                                                                                                                                                                                                                              price: The price (in $US) for a night stay. In early surveys, there may be some values that were recorded by month.\n",
              "6                                                                                                                                                                                                                                                                                                                                                     accomodates: The number of guests a listing can accommodate.\n",
              "7                                                                                                                                                                                                                                                                                                                                                             bathrooms: The number of bathrooms a listing offers.\n",
              "8                                                                                                                                                                                                                                                                                                                                                               bedrooms: The number of bedrooms a listing offers.\n",
              "9                                                                                                                                                                                                                                                                                                                                                                       beds: The number of beds a listing offers.\n",
              "10                                                                                                                                                                                                                                                                                                                                            minimum_nights: The minimum stay for a visit, as posted by the host.\n",
              "11                                                                                                                                                                                                                                                                                                                                            maximum nights: The maximum stay for a visit, as posted by the host.\n",
              "12                                                                                                                                                                                                                                                                                     overall_satisfaction: The average rating (out of five) that the listing has received from those visitors who left a review.\n",
              "13  number_of_reviews: The number of reviews that a listing has received. Airbnb has said that 70% of visits end up with a review, so the number of reviews can be used to estimate the number of visits. Note that such an estimate will not be reliable for an individual listing (especially as reviews occasionally vanish from the site), but over a city as a whole it should be a useful metric of traffic.\n",
              "14                                                                                                                                                                                                                                                                                                                                 reviews_per_month: The number of reviews that a listing has received per month.\n",
              "15                                                                                                                                                                                                                                                                                                                                              host_listings_count: The number of listings for a particular host.\n",
              "16                                                                                                                                                                                                                                                                                                                        availability_365: The number of days for which a particular host is available in a year."
            ],
            "text/html": [
              "\n",
              "  <div id=\"df-57dcfd54-2dad-4a9e-98be-7b18a523b84a\">\n",
              "    <div class=\"colab-df-container\">\n",
              "      <div>\n",
              "<style scoped>\n",
              "    .dataframe tbody tr th:only-of-type {\n",
              "        vertical-align: middle;\n",
              "    }\n",
              "\n",
              "    .dataframe tbody tr th {\n",
              "        vertical-align: top;\n",
              "    }\n",
              "\n",
              "    .dataframe thead th {\n",
              "        text-align: right;\n",
              "    }\n",
              "</style>\n",
              "<table border=\"1\" class=\"dataframe\">\n",
              "  <thead>\n",
              "    <tr style=\"text-align: right;\">\n",
              "      <th></th>\n",
              "      <th>0</th>\n",
              "    </tr>\n",
              "  </thead>\n",
              "  <tbody>\n",
              "    <tr>\n",
              "      <th>0</th>\n",
              "      <td>room_id: A unique number identifying an Airbnb listing.</td>\n",
              "    </tr>\n",
              "    <tr>\n",
              "      <th>1</th>\n",
              "      <td>host_id: A unique number identifying an Airbnb host.</td>\n",
              "    </tr>\n",
              "    <tr>\n",
              "      <th>2</th>\n",
              "      <td>neighborhood: A subregion of the city or search area for which the survey is carried out. For some cities there is no neighbourhood information.</td>\n",
              "    </tr>\n",
              "    <tr>\n",
              "      <th>3</th>\n",
              "      <td>room_type: One of “Entire home/apt”, “Private room”, or “Shared room”.</td>\n",
              "    </tr>\n",
              "    <tr>\n",
              "      <th>4</th>\n",
              "      <td>host_response_rate: The rate at which the particular host responds to the customers.</td>\n",
              "    </tr>\n",
              "    <tr>\n",
              "      <th>5</th>\n",
              "      <td>price: The price (in $US) for a night stay. In early surveys, there may be some values that were recorded by month.</td>\n",
              "    </tr>\n",
              "    <tr>\n",
              "      <th>6</th>\n",
              "      <td>accomodates: The number of guests a listing can accommodate.</td>\n",
              "    </tr>\n",
              "    <tr>\n",
              "      <th>7</th>\n",
              "      <td>bathrooms: The number of bathrooms a listing offers.</td>\n",
              "    </tr>\n",
              "    <tr>\n",
              "      <th>8</th>\n",
              "      <td>bedrooms: The number of bedrooms a listing offers.</td>\n",
              "    </tr>\n",
              "    <tr>\n",
              "      <th>9</th>\n",
              "      <td>beds: The number of beds a listing offers.</td>\n",
              "    </tr>\n",
              "    <tr>\n",
              "      <th>10</th>\n",
              "      <td>minimum_nights: The minimum stay for a visit, as posted by the host.</td>\n",
              "    </tr>\n",
              "    <tr>\n",
              "      <th>11</th>\n",
              "      <td>maximum nights: The maximum stay for a visit, as posted by the host.</td>\n",
              "    </tr>\n",
              "    <tr>\n",
              "      <th>12</th>\n",
              "      <td>overall_satisfaction: The average rating (out of five) that the listing has received from those visitors who left a review.</td>\n",
              "    </tr>\n",
              "    <tr>\n",
              "      <th>13</th>\n",
              "      <td>number_of_reviews: The number of reviews that a listing has received. Airbnb has said that 70% of visits end up with a review, so the number of reviews can be used to estimate the number of visits. Note that such an estimate will not be reliable for an individual listing (especially as reviews occasionally vanish from the site), but over a city as a whole it should be a useful metric of traffic.</td>\n",
              "    </tr>\n",
              "    <tr>\n",
              "      <th>14</th>\n",
              "      <td>reviews_per_month: The number of reviews that a listing has received per month.</td>\n",
              "    </tr>\n",
              "    <tr>\n",
              "      <th>15</th>\n",
              "      <td>host_listings_count: The number of listings for a particular host.</td>\n",
              "    </tr>\n",
              "    <tr>\n",
              "      <th>16</th>\n",
              "      <td>availability_365: The number of days for which a particular host is available in a year.</td>\n",
              "    </tr>\n",
              "  </tbody>\n",
              "</table>\n",
              "</div>\n",
              "      <button class=\"colab-df-convert\" onclick=\"convertToInteractive('df-57dcfd54-2dad-4a9e-98be-7b18a523b84a')\"\n",
              "              title=\"Convert this dataframe to an interactive table.\"\n",
              "              style=\"display:none;\">\n",
              "        \n",
              "  <svg xmlns=\"http://www.w3.org/2000/svg\" height=\"24px\"viewBox=\"0 0 24 24\"\n",
              "       width=\"24px\">\n",
              "    <path d=\"M0 0h24v24H0V0z\" fill=\"none\"/>\n",
              "    <path d=\"M18.56 5.44l.94 2.06.94-2.06 2.06-.94-2.06-.94-.94-2.06-.94 2.06-2.06.94zm-11 1L8.5 8.5l.94-2.06 2.06-.94-2.06-.94L8.5 2.5l-.94 2.06-2.06.94zm10 10l.94 2.06.94-2.06 2.06-.94-2.06-.94-.94-2.06-.94 2.06-2.06.94z\"/><path d=\"M17.41 7.96l-1.37-1.37c-.4-.4-.92-.59-1.43-.59-.52 0-1.04.2-1.43.59L10.3 9.45l-7.72 7.72c-.78.78-.78 2.05 0 2.83L4 21.41c.39.39.9.59 1.41.59.51 0 1.02-.2 1.41-.59l7.78-7.78 2.81-2.81c.8-.78.8-2.07 0-2.86zM5.41 20L4 18.59l7.72-7.72 1.47 1.35L5.41 20z\"/>\n",
              "  </svg>\n",
              "      </button>\n",
              "      \n",
              "  <style>\n",
              "    .colab-df-container {\n",
              "      display:flex;\n",
              "      flex-wrap:wrap;\n",
              "      gap: 12px;\n",
              "    }\n",
              "\n",
              "    .colab-df-convert {\n",
              "      background-color: #E8F0FE;\n",
              "      border: none;\n",
              "      border-radius: 50%;\n",
              "      cursor: pointer;\n",
              "      display: none;\n",
              "      fill: #1967D2;\n",
              "      height: 32px;\n",
              "      padding: 0 0 0 0;\n",
              "      width: 32px;\n",
              "    }\n",
              "\n",
              "    .colab-df-convert:hover {\n",
              "      background-color: #E2EBFA;\n",
              "      box-shadow: 0px 1px 2px rgba(60, 64, 67, 0.3), 0px 1px 3px 1px rgba(60, 64, 67, 0.15);\n",
              "      fill: #174EA6;\n",
              "    }\n",
              "\n",
              "    [theme=dark] .colab-df-convert {\n",
              "      background-color: #3B4455;\n",
              "      fill: #D2E3FC;\n",
              "    }\n",
              "\n",
              "    [theme=dark] .colab-df-convert:hover {\n",
              "      background-color: #434B5C;\n",
              "      box-shadow: 0px 1px 3px 1px rgba(0, 0, 0, 0.15);\n",
              "      filter: drop-shadow(0px 1px 2px rgba(0, 0, 0, 0.3));\n",
              "      fill: #FFFFFF;\n",
              "    }\n",
              "  </style>\n",
              "\n",
              "      <script>\n",
              "        const buttonEl =\n",
              "          document.querySelector('#df-57dcfd54-2dad-4a9e-98be-7b18a523b84a button.colab-df-convert');\n",
              "        buttonEl.style.display =\n",
              "          google.colab.kernel.accessAllowed ? 'block' : 'none';\n",
              "\n",
              "        async function convertToInteractive(key) {\n",
              "          const element = document.querySelector('#df-57dcfd54-2dad-4a9e-98be-7b18a523b84a');\n",
              "          const dataTable =\n",
              "            await google.colab.kernel.invokeFunction('convertToInteractive',\n",
              "                                                     [key], {});\n",
              "          if (!dataTable) return;\n",
              "\n",
              "          const docLinkHtml = 'Like what you see? Visit the ' +\n",
              "            '<a target=\"_blank\" href=https://colab.research.google.com/notebooks/data_table.ipynb>data table notebook</a>'\n",
              "            + ' to learn more about interactive tables.';\n",
              "          element.innerHTML = '';\n",
              "          dataTable['output_type'] = 'display_data';\n",
              "          await google.colab.output.renderOutput(dataTable, element);\n",
              "          const docLink = document.createElement('div');\n",
              "          docLink.innerHTML = docLinkHtml;\n",
              "          element.appendChild(docLink);\n",
              "        }\n",
              "      </script>\n",
              "    </div>\n",
              "  </div>\n",
              "  "
            ]
          },
          "metadata": {},
          "execution_count": 118
        }
      ]
    },
    {
      "cell_type": "code",
      "metadata": {
        "id": "xwI6XbOtBiUO"
      },
      "source": [
        "# dropping the 'name' variable\n",
        "df.drop(columns = ['name'], inplace = True)"
      ],
      "execution_count": 119,
      "outputs": []
    },
    {
      "cell_type": "code",
      "metadata": {
        "id": "6YLlPK34BiUS",
        "colab": {
          "base_uri": "https://localhost:8080/"
        },
        "outputId": "79326aa4-b6ea-4d83-fb12-01a01ec497f7"
      },
      "source": [
        "# checking dataset shape\n",
        "df.shape"
      ],
      "execution_count": 120,
      "outputs": [
        {
          "output_type": "execute_result",
          "data": {
            "text/plain": [
              "(19362, 15)"
            ]
          },
          "metadata": {},
          "execution_count": 120
        }
      ]
    },
    {
      "cell_type": "code",
      "metadata": {
        "id": "wSszt42KBiUX",
        "colab": {
          "base_uri": "https://localhost:8080/"
        },
        "outputId": "74e5958b-2d0a-43b0-b11b-2f9b345fff3b"
      },
      "source": [
        "# checking data types\n",
        "df.dtypes"
      ],
      "execution_count": 121,
      "outputs": [
        {
          "output_type": "execute_result",
          "data": {
            "text/plain": [
              "id                                  int64\n",
              "host_id                             int64\n",
              "host_name                          object\n",
              "neighbourhood_group               float64\n",
              "neighbourhood                      object\n",
              "latitude                          float64\n",
              "longitude                         float64\n",
              "room_type                          object\n",
              "price                               int64\n",
              "minimum_nights                      int64\n",
              "number_of_reviews                   int64\n",
              "last_review                        object\n",
              "reviews_per_month                 float64\n",
              "calculated_host_listings_count      int64\n",
              "availability_365                    int64\n",
              "dtype: object"
            ]
          },
          "metadata": {},
          "execution_count": 121
        }
      ]
    },
    {
      "cell_type": "code",
      "metadata": {
        "id": "sE9Pjh1gBiUd",
        "colab": {
          "base_uri": "https://localhost:8080/"
        },
        "outputId": "7bc6c683-32cd-462c-d5cb-b3f584414f44"
      },
      "source": [
        "# dropping duplicates, if any\n",
        "df.drop_duplicates(inplace = True)\n",
        "df.shape"
      ],
      "execution_count": 122,
      "outputs": [
        {
          "output_type": "execute_result",
          "data": {
            "text/plain": [
              "(19362, 15)"
            ]
          },
          "metadata": {},
          "execution_count": 122
        }
      ]
    },
    {
      "cell_type": "code",
      "metadata": {
        "id": "TSntRcwDBiUg",
        "colab": {
          "base_uri": "https://localhost:8080/"
        },
        "outputId": "91284d32-ad8a-47c8-95d3-2448f49b3f6b"
      },
      "source": [
        "# checking for missing data\n",
        "df.isna().sum()"
      ],
      "execution_count": 123,
      "outputs": [
        {
          "output_type": "execute_result",
          "data": {
            "text/plain": [
              "id                                    0\n",
              "host_id                               0\n",
              "host_name                             4\n",
              "neighbourhood_group               19362\n",
              "neighbourhood                         0\n",
              "latitude                              0\n",
              "longitude                             0\n",
              "room_type                             0\n",
              "price                                 0\n",
              "minimum_nights                        0\n",
              "number_of_reviews                     0\n",
              "last_review                        2284\n",
              "reviews_per_month                  2284\n",
              "calculated_host_listings_count        0\n",
              "availability_365                      0\n",
              "dtype: int64"
            ]
          },
          "metadata": {},
          "execution_count": 123
        }
      ]
    },
    {
      "cell_type": "code",
      "metadata": {
        "id": "7-sCZwtIBiUj",
        "colab": {
          "base_uri": "https://localhost:8080/"
        },
        "outputId": "61ed1617-9cc4-48dd-f1e4-e84a2c7f449a"
      },
      "source": [
        "# dropping the 'neighbourhood_group' variable, and the records with missing values for 'last_review'\n",
        "# and 'reviews_per_month'\n",
        "df.drop(columns = ['neighbourhood_group'], inplace = True)\n",
        "df.dropna(inplace = True)\n",
        "\n",
        "# confirming we have no null values\n",
        "df.isnull().sum()"
      ],
      "execution_count": 124,
      "outputs": [
        {
          "output_type": "execute_result",
          "data": {
            "text/plain": [
              "id                                0\n",
              "host_id                           0\n",
              "host_name                         0\n",
              "neighbourhood                     0\n",
              "latitude                          0\n",
              "longitude                         0\n",
              "room_type                         0\n",
              "price                             0\n",
              "minimum_nights                    0\n",
              "number_of_reviews                 0\n",
              "last_review                       0\n",
              "reviews_per_month                 0\n",
              "calculated_host_listings_count    0\n",
              "availability_365                  0\n",
              "dtype: int64"
            ]
          },
          "metadata": {},
          "execution_count": 124
        }
      ]
    },
    {
      "cell_type": "code",
      "metadata": {
        "id": "w0ZinlPpBiUo",
        "colab": {
          "base_uri": "https://localhost:8080/"
        },
        "outputId": "21622063-6e06-46b6-89e8-c639cacd8c59"
      },
      "source": [
        "df.shape"
      ],
      "execution_count": 125,
      "outputs": [
        {
          "output_type": "execute_result",
          "data": {
            "text/plain": [
              "(17075, 14)"
            ]
          },
          "metadata": {},
          "execution_count": 125
        }
      ]
    },
    {
      "cell_type": "code",
      "metadata": {
        "id": "Biqt5CGbBiUs",
        "colab": {
          "base_uri": "https://localhost:8080/"
        },
        "outputId": "6a983e35-d910-4e1d-ea55-dd22c1184578"
      },
      "source": [
        "# get the unique value of each variable to ensure there are no anomalies\n",
        "cols = df.columns.to_list()\n",
        "\n",
        "for col in cols:\n",
        "    print(\"Variable:\", col)\n",
        "    print(\"Number of unique variables:\", df[col].nunique())\n",
        "    print(df[col].unique())\n",
        "    print()"
      ],
      "execution_count": 126,
      "outputs": [
        {
          "output_type": "stream",
          "name": "stdout",
          "text": [
            "Variable: id\n",
            "Number of unique variables: 17075\n",
            "[    2818    20168    25428 ... 42947577 43031829 43076538]\n",
            "\n",
            "Variable: host_id\n",
            "Number of unique variables: 15182\n",
            "[     3159     59484     56142 ... 341432744 148433830 342882021]\n",
            "\n",
            "Variable: host_name\n",
            "Number of unique variables: 5382\n",
            "['Daniel' 'Alexander' 'Joan' ... 'The Niu Fender' 'Marcela' 'Addie']\n",
            "\n",
            "Variable: neighbourhood\n",
            "Number of unique variables: 22\n",
            "['Oostelijk Havengebied - Indische Buurt' 'Centrum-Oost' 'Centrum-West'\n",
            " 'Zuid' 'De Pijp - Rivierenbuurt' 'De Baarsjes - Oud-West' 'Bos en Lommer'\n",
            " 'Westerpark' 'Oud-Oost' 'Noord-West' 'Slotervaart' 'Oud-Noord'\n",
            " 'Geuzenveld - Slotermeer' 'Watergraafsmeer' 'IJburg - Zeeburgereiland'\n",
            " 'Noord-Oost' 'Gaasperdam - Driemond' 'Buitenveldert - Zuidas'\n",
            " 'Bijlmer-Oost' 'De Aker - Nieuw Sloten' 'Osdorp' 'Bijlmer-Centrum']\n",
            "\n",
            "Variable: latitude\n",
            "Number of unique variables: 5720\n",
            "[52.36575 52.36509 52.37297 ... 52.40828 52.40598 52.38885]\n",
            "\n",
            "Variable: longitude\n",
            "Number of unique variables: 9193\n",
            "[4.94142 4.89354 4.88339 ... 4.88152 4.88034 4.81311]\n",
            "\n",
            "Variable: room_type\n",
            "Number of unique variables: 4\n",
            "['Private room' 'Entire home/apt' 'Hotel room' 'Shared room']\n",
            "\n",
            "Variable: price\n",
            "Number of unique variables: 422\n",
            "[  59  100  125  155   75   55  219  180  159  210  150  270  220  250\n",
            "  120  135  115   80   87   86  222   60  149  109  189  450  108   53\n",
            "  175  105   70  145   95  249   45   98   40   89   99  259  193   52\n",
            "   90   74  165  140   79  230   50  160  129  284  114  265  130  119\n",
            "  385  168 8000   88   85  200  169  650 9000   30  126  550  275  464\n",
            "  111  199  107  226  295   72   96  395  245  299  300  188  280  440\n",
            "  185   65  110  350  400  117   78  700  290  139  415 1750  179  525\n",
            "  195  206   97  144  170  360  118  225   83  232   69  235  213  325\n",
            "  147  190  214  240  121  156  260  319  228  425  399  124  349  239\n",
            "  800  133   47   77  345  229  255   76   66   94  172  376  495  500\n",
            "  439  850  320   93   92  183   58  122  263  154  297  153   71  600\n",
            "   64  123   73  142  138   91   51  317  128  335  248  101  279  103\n",
            "  158  330   84   82  285  291  215  132  176  289   62  131  112  246\n",
            "  127  274  148  498  177  204  466   43   48   57  695  386  266  375\n",
            "   56   68  136  227  405  321  187   49  104  209  146  224  102  344\n",
            "   46  559   63  595  164  795  323  251  218  288   81  197   42  333\n",
            "  174  137  379 1000   35  254  427  383  196   12  329  865  141  389\n",
            "   67  925  725  273  178  198   61   39  167  143 4500  182  475  310\n",
            "  420  151  499  184 1119  186   37   20  233  208  106   41  152  370\n",
            "  116  157  113  134  256  581  173 1150  340  269  445  236    6  211\n",
            "  161   54  231  162   27   28  449  470  898  238  307  460  380  221\n",
            "  205  171  555   38  203   33  480  268  247  201  328  332  410  433\n",
            "  252   32   19  580  298  490  999  217  315   44  575  281  166  234\n",
            "  396  390  163  377  599  308  935   26  277   36  244 1200 1390  604\n",
            "  690  305  194  276  545  359  900  446  207  243   23  615  314   24\n",
            "  267  181  896   29  457  258  680  485    0  447  434   34  429  699\n",
            "  540  223  306  352  590   25   31  424  262  542  403  338  216  750\n",
            "  212  459  520  282 1025  397  237  810  353 1230 3000 2000  242  313\n",
            " 5040  264  339  618  585  438 1285  312  579  401  341  348  799  337\n",
            "  202  840  303  494   17  448  560  563  324  570    5  818  745  368\n",
            "   10  620]\n",
            "\n",
            "Variable: minimum_nights\n",
            "Number of unique variables: 60\n",
            "[   3    1   14    2    4    5    7   21   30   10    6   20  180    8\n",
            "   60   28   13  500   16   15    9  150   31   89   18   59   25   12\n",
            "  999   24   38  186  120   23   40   11   41  222  100   50  240   95\n",
            "   19   90  200   37   17   70   22   99   29   27   45  300 1001   52\n",
            "   48  365 1000   35]\n",
            "\n",
            "Variable: number_of_reviews\n",
            "Number of unique variables: 422\n",
            "[278 340   5 217 332 479  32  89 471 850   3 208 367 103  17 108 298 102\n",
            " 355 309 323 179  31  58 158  95  30  27  16 659 579 154 106  62  97 252\n",
            " 324  64 218 843 131 510 157  94  44 178 196   2  37 386 545 151  29  28\n",
            "  86   4  21  55  41 256  22  48 139 101  15 362 185  10 586  42  40  24\n",
            "  19 166 128 343 160  11 410  81  49  83   7   8 119 216   6  43  35  20\n",
            " 109  50   1 275 465 234 317 209  25  14  87 162  34  75  80 100  12  38\n",
            " 514 288 384  79  99  52 198  67 118 130 111 574  53 186  23  78  65 123\n",
            "  33  91   9 397 237  77  76  60  46 193 150 432  54  45  96  39 127  93\n",
            "  59  13 202  72  57 112  18 369  26 439 170  66 337 210 259 284 606 363\n",
            " 195  71 372  36  47 141 107 645 551 411 299 418 120 699  85 147 183 221\n",
            " 351  69 149  68 238 114 161 104  63 246 391 188 409  73 756 121 174 311\n",
            "  82 668 230 300  74 661  70 326 134 233  92  51 459 327 501 412  56 279\n",
            " 129 408 349 165 254 468 137 226 553  98 285 192 455 325 373 105 289 173\n",
            " 263 390 485 235 148 307 624 315  61 171 124 219 122 175  88 508 314 268\n",
            " 243  90 212 404 156 273 375 133 377 182 283 413 125 265 304 191 760 354\n",
            " 229 257 401 331 306 427 334 431 502 492 143 458 236 126 258 142 282 435\n",
            " 496 153 558 190 261 159 253 447 280 291 274 267 215 255 444 242  84 152\n",
            " 199 145 303 388 286 266 379 110 321 135 197 371 463 434 344 187 271 264\n",
            " 430 596 155 450 169 251 213 617 222 475 172 387 207 296 356 297 457 313\n",
            " 117 115 357 320 168 338 184 358 249 262 272 206 214 163 113 302 225 138\n",
            " 247 422 488 244 568 417 312 381 310 241 224 223 336 290 116 329 164 322\n",
            " 406 269 277 180 522 292 204 348 146 245 250 534 211 276 437 328 382 176\n",
            " 248 177 424 359 232 347 144 231 194 200 181 295 201 239 346 140 330 167\n",
            " 136 240 319 227 132 189 203 589]\n",
            "\n",
            "Variable: last_review\n",
            "Number of unique variables: 1590\n",
            "['2020-02-14' '2020-04-09' '2020-02-09' ... '2020-04-03' '2020-04-18'\n",
            " '2020-04-17']\n",
            "\n",
            "Variable: reviews_per_month\n",
            "Number of unique variables: 703\n",
            "[2.060e+00 2.760e+00 1.800e-01 2.150e+00 2.820e+00 4.330e+00 3.000e-01\n",
            " 7.800e-01 4.020e+00 1.004e+01 3.000e-02 2.000e+00 3.180e+00 9.500e-01\n",
            " 2.300e-01 1.190e+00 2.630e+00 8.900e-01 3.100e+00 2.810e+00 2.990e+00\n",
            " 1.600e+00 2.700e-01 5.000e-02 5.100e-01 1.380e+00 8.400e-01 1.140e+00\n",
            " 1.270e+00 2.500e-01 2.000e-01 5.950e+00 5.190e+00 1.410e+00 2.130e+00\n",
            " 5.600e-01 1.160e+00 2.320e+00 3.000e+00 1.970e+00 7.830e+00 6.840e+00\n",
            " 1.430e+00 8.800e-01 4.100e-01 1.830e+00 2.000e-02 3.500e-01 8.000e-02\n",
            " 3.940e+00 5.090e+00 2.800e-01 9.600e-01 8.000e-01 2.200e-01 6.200e-01\n",
            " 6.000e-01 2.460e+00 2.100e-01 9.700e-01 1.550e+00 4.500e-01 1.310e+00\n",
            " 2.600e-01 1.500e-01 3.430e+00 1.770e+00 1.100e-01 5.600e+00 3.900e-01\n",
            " 4.000e-01 3.800e-01 2.400e-01 1.610e+00 1.240e+00 9.000e-01 1.600e-01\n",
            " 3.350e+00 3.700e-01 4.070e+00 1.350e+00 5.800e-01 8.500e-01 1.220e+00\n",
            " 2.250e+00 4.300e-01 3.600e-01 1.000e+00 4.000e-02 1.120e+00 5.000e-01\n",
            " 1.000e-01 2.750e+00 4.830e+00 3.190e+00 2.070e+00 8.300e-01 1.400e-01\n",
            " 9.100e-01 8.700e-01 7.000e-02 1.660e+00 1.050e+00 4.600e-01 3.200e-01\n",
            " 8.200e-01 4.900e-01 1.200e-01 3.080e+00 3.300e-01 5.210e+00 3.400e-01\n",
            " 2.940e+00 3.960e+00 4.400e-01 1.100e+00 8.100e-01 1.020e+00 5.900e-01\n",
            " 2.030e+00 1.900e-01 6.800e-01 1.450e+00 5.900e+00 5.400e-01 6.700e-01\n",
            " 1.700e-01 6.100e-01 4.110e+00 7.900e-01 6.300e-01 4.800e-01 2.050e+00\n",
            " 1.650e+00 5.640e+00 5.700e-01 4.700e-01 1.010e+00 1.300e-01 6.600e-01\n",
            " 1.390e+00 9.800e-01 1.260e+00 9.000e-02 4.690e+00 7.700e-01 2.370e+00\n",
            " 1.180e+00 7.400e-01 1.820e+00 3.920e+00 4.790e+00 2.900e-01 2.690e+00\n",
            " 4.200e-01 5.300e-01 7.100e-01 4.640e+00 2.380e+00 2.800e+00 3.100e-01\n",
            " 3.260e+00 6.480e+00 3.900e+00 2.110e+00 7.600e-01 3.970e+00 1.520e+00\n",
            " 1.000e-02 2.400e+00 1.170e+00 6.980e+00 6.000e+00 6.900e-01 6.000e-02\n",
            " 3.240e+00 4.560e+00 1.320e+00 7.600e+00 6.500e-01 1.850e+00 9.300e-01\n",
            " 3.590e+00 5.200e-01 9.400e-01 2.010e+00 1.200e+00 3.550e+00 3.890e+00\n",
            " 2.040e+00 1.130e+00 1.210e+00 2.720e+00 5.500e-01 2.710e+00 6.060e+00\n",
            " 2.210e+00 4.530e+00 1.780e+00 7.000e-01 8.460e+00 1.360e+00 1.940e+00\n",
            " 3.570e+00 7.420e+00 5.240e+00 3.130e+00 3.380e+00 7.440e+00 3.800e+00\n",
            " 1.590e+00 1.980e+00 2.700e+00 1.080e+00 5.320e+00 3.850e+00 5.710e+00\n",
            " 4.700e+00 6.400e-01 1.930e+00 3.370e+00 4.750e+00 4.080e+00 2.270e+00\n",
            " 4.120e+00 3.480e+00 4.260e+00 1.890e+00 5.440e+00 3.090e+00 6.440e+00\n",
            " 1.150e+00 7.500e-01 7.300e-01 3.400e+00 2.510e+00 1.030e+00 5.380e+00\n",
            " 3.840e+00 3.830e+00 8.600e-01 4.420e+00 6.560e+00 3.170e+00 4.990e+00\n",
            " 7.200e-01 5.770e+00 1.330e+00 2.890e+00 4.360e+00 4.730e+00 1.530e+00\n",
            " 3.780e+00 7.480e+00 3.770e+00 3.820e+00 9.200e-01 1.250e+00 9.900e-01\n",
            " 1.510e+00 2.140e+00 5.610e+00 2.670e+00 1.060e+00 1.500e+00 6.220e+00\n",
            " 2.600e+00 1.630e+00 1.490e+00 5.020e+00 1.480e+00 1.230e+00 2.420e+00\n",
            " 3.450e+00 4.680e+00 1.670e+00 4.720e+00 1.090e+00 3.500e+00 2.490e+00\n",
            " 5.510e+00 1.580e+00 1.760e+00 2.660e+00 3.040e+00 1.560e+00 9.630e+00\n",
            " 4.500e+00 3.070e+00 1.040e+00 1.740e+00 3.610e+00 5.220e+00 4.490e+00\n",
            " 4.150e+00 5.810e+00 1.110e+00 4.350e+00 2.230e+00 5.970e+00 6.500e+00\n",
            " 6.690e+00 1.870e+00 5.980e+00 3.140e+00 4.950e+00 1.420e+00 1.750e+00\n",
            " 1.370e+00 3.640e+00 1.300e+00 4.270e+00 3.760e+00 5.930e+00 5.820e+00\n",
            " 2.080e+00 7.560e+00 2.590e+00 3.600e+00 1.290e+00 2.350e+00 2.500e+00\n",
            " 3.520e+00 3.390e+00 3.910e+00 3.310e+00 3.740e+00 3.670e+00 2.650e+00\n",
            " 2.340e+00 4.480e+00 3.690e+00 5.230e+00 1.280e+00 3.580e+00 6.200e+00\n",
            " 4.410e+00 1.860e+00 3.560e+00 2.180e+00 3.490e+00 2.100e+00 2.090e+00\n",
            " 3.290e+00 4.290e+00 1.720e+00 5.490e+00 4.040e+00 5.370e+00 1.470e+00\n",
            " 3.730e+00 1.640e+00 4.660e+00 1.950e+00 3.220e+00 2.860e+00 3.680e+00\n",
            " 5.360e+00 5.390e+00 4.250e+00 1.440e+00 2.870e+00 4.920e+00 6.730e+00\n",
            " 6.350e+00 5.050e+00 1.960e+00 2.740e+00 2.900e+00 1.070e+00 3.470e+00\n",
            " 6.400e+00 8.900e+00 4.460e+00 6.780e+00 6.160e+00 5.130e+00 3.010e+00\n",
            " 9.320e+00 3.620e+00 7.220e+00 5.880e+00 2.480e+00 3.160e+00 4.590e+00\n",
            " 7.410e+00 2.310e+00 3.870e+00 4.600e+00 7.530e+00 5.100e+00 4.650e+00\n",
            " 4.160e+00 3.720e+00 1.710e+00 5.690e+00 2.280e+00 1.880e+00 1.840e+00\n",
            " 2.620e+00 2.300e+00 1.400e+00 1.570e+00 5.250e+00 5.570e+00 6.300e+00\n",
            " 4.470e+00 2.260e+00 4.240e+00 5.910e+00 2.360e+00 2.830e+00 6.010e+00\n",
            " 4.570e+00 3.420e+00 4.210e+00 2.730e+00 2.680e+00 1.002e+01 5.080e+00\n",
            " 3.410e+00 1.340e+00 4.280e+00 2.580e+00 1.910e+00 1.990e+00 7.210e+00\n",
            " 1.084e+01 4.220e+00 3.710e+00 1.010e+01 7.000e+00 4.880e+00 6.520e+00\n",
            " 5.630e+00 7.350e+00 5.560e+00 6.670e+00 4.190e+00 5.140e+00 3.990e+00\n",
            " 2.410e+00 3.980e+00 6.140e+00 5.200e+00 4.860e+00 2.790e+00 4.140e+00\n",
            " 5.840e+00 7.540e+00 4.970e+00 2.930e+00 3.270e+00 3.440e+00 4.230e+00\n",
            " 9.920e+00 2.950e+00 4.090e+00 4.870e+00 5.400e+00 2.910e+00 6.460e+00\n",
            " 3.050e+00 4.740e+00 5.270e+00 6.070e+00 4.540e+00 1.690e+00 1.920e+00\n",
            " 5.030e+00 3.810e+00 6.210e+00 1.700e+00 3.660e+00 4.370e+00 2.290e+00\n",
            " 4.960e+00 1.031e+01 4.430e+00 1.540e+00 2.220e+00 2.440e+00 1.800e+00\n",
            " 2.980e+00 4.840e+00 5.540e+00 8.710e+00 2.330e+00 7.760e+00 6.470e+00\n",
            " 3.790e+00 9.340e+00 5.000e+00 1.730e+00 2.570e+00 2.240e+00 4.620e+00\n",
            " 5.340e+00 3.280e+00 4.520e+00 4.670e+00 8.830e+00 4.710e+00 2.560e+00\n",
            " 3.880e+00 1.620e+00 3.930e+00 6.900e+00 3.700e+00 3.210e+00 5.870e+00\n",
            " 1.680e+00 2.840e+00 6.250e+00 7.650e+00 4.940e+00 4.780e+00 3.340e+00\n",
            " 3.510e+00 7.590e+00 4.510e+00 2.780e+00 3.200e+00 2.520e+00 3.320e+00\n",
            " 2.450e+00 2.540e+00 6.310e+00 6.370e+00 1.460e+00 4.630e+00 3.530e+00\n",
            " 9.060e+00 4.610e+00 6.790e+00 1.810e+00 2.430e+00 4.310e+00 7.470e+00\n",
            " 5.350e+00 5.260e+00 7.120e+00 2.390e+00 2.470e+00 7.070e+00 2.920e+00\n",
            " 3.250e+00 6.680e+00 6.720e+00 5.800e+00 4.030e+00 3.330e+00 4.450e+00\n",
            " 4.010e+00 2.960e+00 2.190e+00 3.650e+00 6.040e+00 5.150e+00 1.900e+00\n",
            " 3.020e+00 5.700e+00 4.000e+00 2.770e+00 6.270e+00 9.440e+00 5.310e+00\n",
            " 2.020e+00 6.450e+00 5.290e+00 5.730e+00 8.890e+00 6.940e+00 3.950e+00\n",
            " 5.040e+00 3.460e+00 7.100e+00 1.790e+00 2.530e+00 3.230e+00 8.570e+00\n",
            " 4.910e+00 2.200e+00 8.030e+00 4.810e+00 4.800e+00 7.740e+00 5.920e+00\n",
            " 4.580e+00 9.110e+00 3.060e+00 2.550e+00 6.650e+00 5.590e+00 2.640e+00\n",
            " 7.510e+00 4.770e+00 4.760e+00 8.180e+00 4.980e+00 1.078e+01 5.460e+00\n",
            " 3.150e+00 6.710e+00 2.120e+00 3.030e+00 4.060e+00 6.170e+00 5.420e+00\n",
            " 8.110e+00 4.400e+00 6.330e+00 5.500e+00 4.320e+00 6.260e+00 5.010e+00\n",
            " 8.290e+00 8.860e+00 7.580e+00 6.490e+00 5.480e+00 3.540e+00 7.430e+00\n",
            " 4.170e+00 3.110e+00 4.380e+00 6.380e+00 4.180e+00 4.550e+00 5.780e+00\n",
            " 2.610e+00 5.060e+00 5.330e+00 1.129e+01 7.610e+00 3.750e+00 8.590e+00\n",
            " 7.180e+00 6.390e+00 4.890e+00 5.410e+00 5.170e+00 6.320e+00 7.680e+00\n",
            " 7.330e+00 6.830e+00 9.130e+00 8.950e+00 6.960e+00 5.300e+00 6.020e+00\n",
            " 4.390e+00 5.740e+00 4.200e+00 3.120e+00 7.780e+00 4.820e+00 8.070e+00\n",
            " 4.340e+00 9.020e+00 7.190e+00 9.010e+00 8.880e+00 7.030e+00 4.930e+00\n",
            " 5.620e+00 6.050e+00 5.520e+00 2.880e+00 2.170e+00 6.610e+00 7.500e+00\n",
            " 1.438e+01 2.830e+01 5.940e+00 5.790e+00 2.213e+01 1.257e+01 6.510e+00\n",
            " 3.300e+00 6.880e+00 3.360e+00 4.130e+00 7.170e+00 3.630e+00 5.760e+00\n",
            " 4.124e+01 6.230e+00 5.851e+01 4.050e+00 4.100e+00 5.650e+00 6.120e+00\n",
            " 7.300e+00 1.800e+01 4.900e+00 5.120e+00 2.160e+00 7.010e+00 2.850e+00\n",
            " 7.770e+00 3.860e+00 6.890e+00]\n",
            "\n",
            "Variable: calculated_host_listings_count\n",
            "Number of unique variables: 23\n",
            "[ 1  2  3  5  9  8  4 10  6 11  7 38 13 39 21 16 31 19 34 14 17 15 12]\n",
            "\n",
            "Variable: availability_365\n",
            "Number of unique variables: 366\n",
            "[169 106 132 172 210 262 105  16 293   0 324   1 336  75 285  15  58 365\n",
            "  10  27  32 283  76  72  89 181   4 107  81  37  60 219 294 157 274  26\n",
            " 273 350 166 216 267 125  17 114  87 205 339 332  23 245 160 197 207   3\n",
            "   8 182 190  49 323  30  51  38 120 211 256 140 306 188  71 326 356 333\n",
            " 130  65 116 348 331 318 260 354 261 358  34  74 189 229 275  67 133 279\n",
            " 291 320  19 224   2 150  25  83 118 280 127 337  85  20  45  22 286 321\n",
            "  42 178 141 143 108 196 277 200 342  59 180  90 364 334  70  31 158 347\n",
            "  18  12  46 104 281 363  50 282  78 135 327   5 214  63 121 264 111 351\n",
            " 138  55 362 319 290 100 153 352 179 248 345 156 170 222  61 204 164 270\n",
            "  47 304 223   7 191 122 234 278 228  66 353 168  35 250 173 271 314 328\n",
            "  40 344 301 171 134 268 289  28 117 252 221 357 194 213  77 152 230 255\n",
            "  48 202  64 155 235 292 193 359 151  14 263 349   6 232 272 287 177  73\n",
            " 192 238  88 335 355 330 187 119  29  84 220 300  44 109 142 112 212 361\n",
            " 307 215 209  82  97 226 312 102 208 115  11 176  56 124 251  43 317 110\n",
            " 284  36  99  52 159 259 198 343 346 137 162  69 315 241 131 139 288  98\n",
            "  13 225   9 175 186 265  79 206  93 247 113 149  21 231 174 233 218 340\n",
            " 316 322 199 295 123 302 305 325  24 296 148  92 308 183  86  96 201 239\n",
            " 360 240 303 165  62 129 313 101 297 167 185 310 195 257  54  57  80 145\n",
            " 299 144  91 128 146 163  33 242 253  68 341 244 203 147 154 227  94  95\n",
            " 311 309 329  39 246  53  41 126 298 249 236 266 269 103 338 136 237 258\n",
            " 243 276 161 217 254 184]\n",
            "\n"
          ]
        }
      ]
    },
    {
      "cell_type": "markdown",
      "source": [
        "## CHECKING FOR OUTLIERS"
      ],
      "metadata": {
        "id": "TGBcT-W4qXXC"
      }
    },
    {
      "cell_type": "code",
      "source": [
        "# drop id as its not needed\n",
        "df.drop(columns = ['id'], inplace = True)"
      ],
      "metadata": {
        "id": "jAMsPLQyrUkz"
      },
      "execution_count": 127,
      "outputs": []
    },
    {
      "cell_type": "code",
      "metadata": {
        "id": "aNmLiGPFBiUv",
        "colab": {
          "base_uri": "https://localhost:8080/",
          "height": 599
        },
        "outputId": "9c48fd0e-1e51-4142-bae4-c373ddb99a3d"
      },
      "source": [
        "# visualizing the distribution of outliers\n",
        "plt.figure(figsize = (15, 8))\n",
        "df.boxplot()\n",
        "plt.xticks(rotation = 45)\n",
        "plt.show()"
      ],
      "execution_count": 128,
      "outputs": [
        {
          "output_type": "display_data",
          "data": {
            "text/plain": [
              "<Figure size 1080x576 with 1 Axes>"
            ],
            "image/png": "[encoded data removed]"
          },
          "metadata": {
            "needs_background": "light"
          }
        }
      ]
    },
    {
      "cell_type": "code",
      "metadata": {
        "id": "EF2ckNcZBiUx",
        "colab": {
          "base_uri": "https://localhost:8080/",
          "height": 312
        },
        "outputId": "33ff7fe8-aae7-43d6-d2df-66012b9d565d"
      },
      "source": [
        "# getting the records with outliers\n",
        "q1 = df.quantile(0.25)\n",
        "q3 = df.quantile(0.75)\n",
        "iqr = q3 - q1\n",
        "\n",
        "outliers_df = df[((df < (q1 - 1.5 * iqr)) | (df > (q3 + 1.5 * iqr))).any(axis = 1)]\n",
        "print(outliers_df.shape)\n",
        "outliers_df.sample(3)"
      ],
      "execution_count": 129,
      "outputs": [
        {
          "output_type": "stream",
          "name": "stdout",
          "text": [
            "(8544, 13)\n"
          ]
        },
        {
          "output_type": "stream",
          "name": "stderr",
          "text": [
            "/usr/local/lib/python3.7/dist-packages/ipykernel_launcher.py:6: FutureWarning: Automatic reindexing on DataFrame vs Series comparisons is deprecated and will raise ValueError in a future version.  Do `left, right = left.align(right, axis=1, copy=False)` before e.g. `left == right`\n",
            "  \n"
          ]
        },
        {
          "output_type": "execute_result",
          "data": {
            "text/plain": [
              "         host_id host_name           neighbourhood  latitude  longitude  \\\n",
              "9795    25931366     Tuğba                  Osdorp  52.35592    4.79562   \n",
              "15801  202021636     Laura  De Baarsjes - Oud-West  52.36873    4.84887   \n",
              "18299    1917728    Victor            Centrum-West  52.37317    4.88252   \n",
              "\n",
              "             room_type  price  minimum_nights  number_of_reviews last_review  \\\n",
              "9795   Entire home/apt    120               1                 11  2020-03-14   \n",
              "15801  Entire home/apt    120               3                  3  2019-08-25   \n",
              "18299  Entire home/apt    145               2                  6  2020-03-08   \n",
              "\n",
              "       reviews_per_month  calculated_host_listings_count  availability_365  \n",
              "9795                0.50                               1               117  \n",
              "15801               0.34                               1                 0  \n",
              "18299               1.67                               1               310  "
            ],
            "text/html": [
              "\n",
              "  <div id=\"df-cd07c3f6-9f21-426f-beb5-09c8ae1557ab\">\n",
              "    <div class=\"colab-df-container\">\n",
              "      <div>\n",
              "<style scoped>\n",
              "    .dataframe tbody tr th:only-of-type {\n",
              "        vertical-align: middle;\n",
              "    }\n",
              "\n",
              "    .dataframe tbody tr th {\n",
              "        vertical-align: top;\n",
              "    }\n",
              "\n",
              "    .dataframe thead th {\n",
              "        text-align: right;\n",
              "    }\n",
              "</style>\n",
              "<table border=\"1\" class=\"dataframe\">\n",
              "  <thead>\n",
              "    <tr style=\"text-align: right;\">\n",
              "      <th></th>\n",
              "      <th>host_id</th>\n",
              "      <th>host_name</th>\n",
              "      <th>neighbourhood</th>\n",
              "      <th>latitude</th>\n",
              "      <th>longitude</th>\n",
              "      <th>room_type</th>\n",
              "      <th>price</th>\n",
              "      <th>minimum_nights</th>\n",
              "      <th>number_of_reviews</th>\n",
              "      <th>last_review</th>\n",
              "      <th>reviews_per_month</th>\n",
              "      <th>calculated_host_listings_count</th>\n",
              "      <th>availability_365</th>\n",
              "    </tr>\n",
              "  </thead>\n",
              "  <tbody>\n",
              "    <tr>\n",
              "      <th>9795</th>\n",
              "      <td>25931366</td>\n",
              "      <td>Tuğba</td>\n",
              "      <td>Osdorp</td>\n",
              "      <td>52.35592</td>\n",
              "      <td>4.79562</td>\n",
              "      <td>Entire home/apt</td>\n",
              "      <td>120</td>\n",
              "      <td>1</td>\n",
              "      <td>11</td>\n",
              "      <td>2020-03-14</td>\n",
              "      <td>0.50</td>\n",
              "      <td>1</td>\n",
              "      <td>117</td>\n",
              "    </tr>\n",
              "    <tr>\n",
              "      <th>15801</th>\n",
              "      <td>202021636</td>\n",
              "      <td>Laura</td>\n",
              "      <td>De Baarsjes - Oud-West</td>\n",
              "      <td>52.36873</td>\n",
              "      <td>4.84887</td>\n",
              "      <td>Entire home/apt</td>\n",
              "      <td>120</td>\n",
              "      <td>3</td>\n",
              "      <td>3</td>\n",
              "      <td>2019-08-25</td>\n",
              "      <td>0.34</td>\n",
              "      <td>1</td>\n",
              "      <td>0</td>\n",
              "    </tr>\n",
              "    <tr>\n",
              "      <th>18299</th>\n",
              "      <td>1917728</td>\n",
              "      <td>Victor</td>\n",
              "      <td>Centrum-West</td>\n",
              "      <td>52.37317</td>\n",
              "      <td>4.88252</td>\n",
              "      <td>Entire home/apt</td>\n",
              "      <td>145</td>\n",
              "      <td>2</td>\n",
              "      <td>6</td>\n",
              "      <td>2020-03-08</td>\n",
              "      <td>1.67</td>\n",
              "      <td>1</td>\n",
              "      <td>310</td>\n",
              "    </tr>\n",
              "  </tbody>\n",
              "</table>\n",
              "</div>\n",
              "      <button class=\"colab-df-convert\" onclick=\"convertToInteractive('df-cd07c3f6-9f21-426f-beb5-09c8ae1557ab')\"\n",
              "              title=\"Convert this dataframe to an interactive table.\"\n",
              "              style=\"display:none;\">\n",
              "        \n",
              "  <svg xmlns=\"http://www.w3.org/2000/svg\" height=\"24px\"viewBox=\"0 0 24 24\"\n",
              "       width=\"24px\">\n",
              "    <path d=\"M0 0h24v24H0V0z\" fill=\"none\"/>\n",
              "    <path d=\"M18.56 5.44l.94 2.06.94-2.06 2.06-.94-2.06-.94-.94-2.06-.94 2.06-2.06.94zm-11 1L8.5 8.5l.94-2.06 2.06-.94-2.06-.94L8.5 2.5l-.94 2.06-2.06.94zm10 10l.94 2.06.94-2.06 2.06-.94-2.06-.94-.94-2.06-.94 2.06-2.06.94z\"/><path d=\"M17.41 7.96l-1.37-1.37c-.4-.4-.92-.59-1.43-.59-.52 0-1.04.2-1.43.59L10.3 9.45l-7.72 7.72c-.78.78-.78 2.05 0 2.83L4 21.41c.39.39.9.59 1.41.59.51 0 1.02-.2 1.41-.59l7.78-7.78 2.81-2.81c.8-.78.8-2.07 0-2.86zM5.41 20L4 18.59l7.72-7.72 1.47 1.35L5.41 20z\"/>\n",
              "  </svg>\n",
              "      </button>\n",
              "      \n",
              "  <style>\n",
              "    .colab-df-container {\n",
              "      display:flex;\n",
              "      flex-wrap:wrap;\n",
              "      gap: 12px;\n",
              "    }\n",
              "\n",
              "    .colab-df-convert {\n",
              "      background-color: #E8F0FE;\n",
              "      border: none;\n",
              "      border-radius: 50%;\n",
              "      cursor: pointer;\n",
              "      display: none;\n",
              "      fill: #1967D2;\n",
              "      height: 32px;\n",
              "      padding: 0 0 0 0;\n",
              "      width: 32px;\n",
              "    }\n",
              "\n",
              "    .colab-df-convert:hover {\n",
              "      background-color: #E2EBFA;\n",
              "      box-shadow: 0px 1px 2px rgba(60, 64, 67, 0.3), 0px 1px 3px 1px rgba(60, 64, 67, 0.15);\n",
              "      fill: #174EA6;\n",
              "    }\n",
              "\n",
              "    [theme=dark] .colab-df-convert {\n",
              "      background-color: #3B4455;\n",
              "      fill: #D2E3FC;\n",
              "    }\n",
              "\n",
              "    [theme=dark] .colab-df-convert:hover {\n",
              "      background-color: #434B5C;\n",
              "      box-shadow: 0px 1px 3px 1px rgba(0, 0, 0, 0.15);\n",
              "      filter: drop-shadow(0px 1px 2px rgba(0, 0, 0, 0.3));\n",
              "      fill: #FFFFFF;\n",
              "    }\n",
              "  </style>\n",
              "\n",
              "      <script>\n",
              "        const buttonEl =\n",
              "          document.querySelector('#df-cd07c3f6-9f21-426f-beb5-09c8ae1557ab button.colab-df-convert');\n",
              "        buttonEl.style.display =\n",
              "          google.colab.kernel.accessAllowed ? 'block' : 'none';\n",
              "\n",
              "        async function convertToInteractive(key) {\n",
              "          const element = document.querySelector('#df-cd07c3f6-9f21-426f-beb5-09c8ae1557ab');\n",
              "          const dataTable =\n",
              "            await google.colab.kernel.invokeFunction('convertToInteractive',\n",
              "                                                     [key], {});\n",
              "          if (!dataTable) return;\n",
              "\n",
              "          const docLinkHtml = 'Like what you see? Visit the ' +\n",
              "            '<a target=\"_blank\" href=https://colab.research.google.com/notebooks/data_table.ipynb>data table notebook</a>'\n",
              "            + ' to learn more about interactive tables.';\n",
              "          element.innerHTML = '';\n",
              "          dataTable['output_type'] = 'display_data';\n",
              "          await google.colab.output.renderOutput(dataTable, element);\n",
              "          const docLink = document.createElement('div');\n",
              "          docLink.innerHTML = docLinkHtml;\n",
              "          element.appendChild(docLink);\n",
              "        }\n",
              "      </script>\n",
              "    </div>\n",
              "  </div>\n",
              "  "
            ]
          },
          "metadata": {},
          "execution_count": 129
        }
      ]
    },
    {
      "cell_type": "code",
      "metadata": {
        "id": "rYRRRrLyBiU0",
        "colab": {
          "base_uri": "https://localhost:8080/"
        },
        "outputId": "0c17ad52-e22f-47dd-ea85-5d14b6a7c86a"
      },
      "source": [
        "# calculating percentage of outliers\n",
        "round((outliers_df.shape[0] / df.shape[0]) * 100, 2)"
      ],
      "execution_count": 130,
      "outputs": [
        {
          "output_type": "execute_result",
          "data": {
            "text/plain": [
              "50.04"
            ]
          },
          "metadata": {},
          "execution_count": 130
        }
      ]
    },
    {
      "cell_type": "markdown",
      "source": [
        "50.04% is a fairly large number of records to drop, so we will not drop our outliers."
      ],
      "metadata": {
        "id": "a1G-6GbMp54F"
      }
    },
    {
      "cell_type": "markdown",
      "metadata": {
        "id": "cFYNsqcNBiU4"
      },
      "source": [
        "It would be tricky to drop the records with outliers since that will reduce our dataset by half so we will leave them there. However, we will drop the host_id variable later on, right before modeling."
      ]
    },
    {
      "cell_type": "markdown",
      "source": [
        "##Checking Linearity"
      ],
      "metadata": {
        "id": "_5BT7xXGqkQY"
      }
    },
    {
      "cell_type": "code",
      "source": [
        "numerical_train = df.select_dtypes(include = ['int','float'])\n",
        "numerical_train.head(2)\n",
        "\n",
        "null_series = numerical_train.isnull().sum()\n",
        "print(null_series.shape)\n",
        "\n",
        "full_cols_series = null_series[null_series == 0]\n",
        "print(full_cols_series.shape)"
      ],
      "metadata": {
        "colab": {
          "base_uri": "https://localhost:8080/"
        },
        "id": "TwKjwr_Vqo5l",
        "outputId": "2114e93b-c665-404a-e907-2f2b82ff0dea"
      },
      "execution_count": 131,
      "outputs": [
        {
          "output_type": "stream",
          "name": "stdout",
          "text": [
            "(9,)\n",
            "(9,)\n"
          ]
        }
      ]
    },
    {
      "cell_type": "markdown",
      "source": [
        "##Checking multicollinearity"
      ],
      "metadata": {
        "id": "VFyP3fNdpXnw"
      }
    },
    {
      "cell_type": "code",
      "source": [
        "# create list to store column names to test against 'price'\n",
        "train_subset = df[full_cols_series.index]\n",
        "\n",
        "corr = train_subset.corr()\n",
        "\n",
        "SalePrice_corr = corr ['price']\n",
        "SalePrice_corr\n",
        "\n",
        "# '''\n",
        "# Select just the Price column from the resulting data frame, compute the absolute value of each term, \n",
        "# sort the resulting Series by the correlation values, and assign to sorted_corrs.\n",
        "# '''\n",
        "\n",
        "ab = SalePrice_corr.abs()\n",
        "\n",
        "sorted_corrs = ab.sort_values(ascending=False)\n",
        "print(sorted_corrs)"
      ],
      "metadata": {
        "colab": {
          "base_uri": "https://localhost:8080/"
        },
        "id": "6pzOI97tq329",
        "outputId": "ac613792-12e7-4713-bd63-7642d7102424"
      },
      "execution_count": 132,
      "outputs": [
        {
          "output_type": "stream",
          "name": "stdout",
          "text": [
            "price                             1.000000\n",
            "availability_365                  0.132741\n",
            "minimum_nights                    0.035343\n",
            "calculated_host_listings_count    0.025464\n",
            "number_of_reviews                 0.024397\n",
            "latitude                          0.019567\n",
            "host_id                           0.019220\n",
            "reviews_per_month                 0.015244\n",
            "longitude                         0.013304\n",
            "Name: price, dtype: float64\n"
          ]
        }
      ]
    },
    {
      "cell_type": "markdown",
      "source": [
        "There is a poor relationship between price and the rest of the features of less than 0.75"
      ],
      "metadata": {
        "id": "Gss75Q_oq7g4"
      }
    },
    {
      "cell_type": "code",
      "source": [
        "# checking the correlations between the numerical variables\n",
        "cor = df.corr()\n",
        "cor"
      ],
      "metadata": {
        "colab": {
          "base_uri": "https://localhost:8080/",
          "height": 396
        },
        "id": "vvZI5Mjipck3",
        "outputId": "6ae00484-ee75-47b8-e718-11629aaaf7d1"
      },
      "execution_count": 133,
      "outputs": [
        {
          "output_type": "execute_result",
          "data": {
            "text/plain": [
              "                                 host_id  latitude  longitude     price  \\\n",
              "host_id                         1.000000 -0.011259   0.027041  0.019220   \n",
              "latitude                       -0.011259  1.000000  -0.143365  0.019567   \n",
              "longitude                       0.027041 -0.143365   1.000000  0.013304   \n",
              "price                           0.019220  0.019567   0.013304  1.000000   \n",
              "minimum_nights                 -0.012490 -0.017351  -0.002961  0.035343   \n",
              "number_of_reviews              -0.107797  0.036669   0.003264 -0.024397   \n",
              "reviews_per_month               0.126118  0.030088   0.012546 -0.015244   \n",
              "calculated_host_listings_count  0.024235  0.022713   0.012186  0.025464   \n",
              "availability_365                0.102491  0.040589   0.021006  0.132741   \n",
              "\n",
              "                                minimum_nights  number_of_reviews  \\\n",
              "host_id                              -0.012490          -0.107797   \n",
              "latitude                             -0.017351           0.036669   \n",
              "longitude                            -0.002961           0.003264   \n",
              "price                                 0.035343          -0.024397   \n",
              "minimum_nights                        1.000000          -0.017258   \n",
              "number_of_reviews                    -0.017258           1.000000   \n",
              "reviews_per_month                    -0.024594           0.738433   \n",
              "calculated_host_listings_count       -0.007350           0.002123   \n",
              "availability_365                      0.041135           0.306629   \n",
              "\n",
              "                                reviews_per_month  \\\n",
              "host_id                                  0.126118   \n",
              "latitude                                 0.030088   \n",
              "longitude                                0.012546   \n",
              "price                                   -0.015244   \n",
              "minimum_nights                          -0.024594   \n",
              "number_of_reviews                        0.738433   \n",
              "reviews_per_month                        1.000000   \n",
              "calculated_host_listings_count           0.039661   \n",
              "availability_365                         0.325249   \n",
              "\n",
              "                                calculated_host_listings_count  \\\n",
              "host_id                                               0.024235   \n",
              "latitude                                              0.022713   \n",
              "longitude                                             0.012186   \n",
              "price                                                 0.025464   \n",
              "minimum_nights                                       -0.007350   \n",
              "number_of_reviews                                     0.002123   \n",
              "reviews_per_month                                     0.039661   \n",
              "calculated_host_listings_count                        1.000000   \n",
              "availability_365                                      0.126483   \n",
              "\n",
              "                                availability_365  \n",
              "host_id                                 0.102491  \n",
              "latitude                                0.040589  \n",
              "longitude                               0.021006  \n",
              "price                                   0.132741  \n",
              "minimum_nights                          0.041135  \n",
              "number_of_reviews                       0.306629  \n",
              "reviews_per_month                       0.325249  \n",
              "calculated_host_listings_count          0.126483  \n",
              "availability_365                        1.000000  "
            ],
            "text/html": [
              "\n",
              "  <div id=\"df-515b807d-1c6e-4b20-b0fb-5e84d9600f1e\">\n",
              "    <div class=\"colab-df-container\">\n",
              "      <div>\n",
              "<style scoped>\n",
              "    .dataframe tbody tr th:only-of-type {\n",
              "        vertical-align: middle;\n",
              "    }\n",
              "\n",
              "    .dataframe tbody tr th {\n",
              "        vertical-align: top;\n",
              "    }\n",
              "\n",
              "    .dataframe thead th {\n",
              "        text-align: right;\n",
              "    }\n",
              "</style>\n",
              "<table border=\"1\" class=\"dataframe\">\n",
              "  <thead>\n",
              "    <tr style=\"text-align: right;\">\n",
              "      <th></th>\n",
              "      <th>host_id</th>\n",
              "      <th>latitude</th>\n",
              "      <th>longitude</th>\n",
              "      <th>price</th>\n",
              "      <th>minimum_nights</th>\n",
              "      <th>number_of_reviews</th>\n",
              "      <th>reviews_per_month</th>\n",
              "      <th>calculated_host_listings_count</th>\n",
              "      <th>availability_365</th>\n",
              "    </tr>\n",
              "  </thead>\n",
              "  <tbody>\n",
              "    <tr>\n",
              "      <th>host_id</th>\n",
              "      <td>1.000000</td>\n",
              "      <td>-0.011259</td>\n",
              "      <td>0.027041</td>\n",
              "      <td>0.019220</td>\n",
              "      <td>-0.012490</td>\n",
              "      <td>-0.107797</td>\n",
              "      <td>0.126118</td>\n",
              "      <td>0.024235</td>\n",
              "      <td>0.102491</td>\n",
              "    </tr>\n",
              "    <tr>\n",
              "      <th>latitude</th>\n",
              "      <td>-0.011259</td>\n",
              "      <td>1.000000</td>\n",
              "      <td>-0.143365</td>\n",
              "      <td>0.019567</td>\n",
              "      <td>-0.017351</td>\n",
              "      <td>0.036669</td>\n",
              "      <td>0.030088</td>\n",
              "      <td>0.022713</td>\n",
              "      <td>0.040589</td>\n",
              "    </tr>\n",
              "    <tr>\n",
              "      <th>longitude</th>\n",
              "      <td>0.027041</td>\n",
              "      <td>-0.143365</td>\n",
              "      <td>1.000000</td>\n",
              "      <td>0.013304</td>\n",
              "      <td>-0.002961</td>\n",
              "      <td>0.003264</td>\n",
              "      <td>0.012546</td>\n",
              "      <td>0.012186</td>\n",
              "      <td>0.021006</td>\n",
              "    </tr>\n",
              "    <tr>\n",
              "      <th>price</th>\n",
              "      <td>0.019220</td>\n",
              "      <td>0.019567</td>\n",
              "      <td>0.013304</td>\n",
              "      <td>1.000000</td>\n",
              "      <td>0.035343</td>\n",
              "      <td>-0.024397</td>\n",
              "      <td>-0.015244</td>\n",
              "      <td>0.025464</td>\n",
              "      <td>0.132741</td>\n",
              "    </tr>\n",
              "    <tr>\n",
              "      <th>minimum_nights</th>\n",
              "      <td>-0.012490</td>\n",
              "      <td>-0.017351</td>\n",
              "      <td>-0.002961</td>\n",
              "      <td>0.035343</td>\n",
              "      <td>1.000000</td>\n",
              "      <td>-0.017258</td>\n",
              "      <td>-0.024594</td>\n",
              "      <td>-0.007350</td>\n",
              "      <td>0.041135</td>\n",
              "    </tr>\n",
              "    <tr>\n",
              "      <th>number_of_reviews</th>\n",
              "      <td>-0.107797</td>\n",
              "      <td>0.036669</td>\n",
              "      <td>0.003264</td>\n",
              "      <td>-0.024397</td>\n",
              "      <td>-0.017258</td>\n",
              "      <td>1.000000</td>\n",
              "      <td>0.738433</td>\n",
              "      <td>0.002123</td>\n",
              "      <td>0.306629</td>\n",
              "    </tr>\n",
              "    <tr>\n",
              "      <th>reviews_per_month</th>\n",
              "      <td>0.126118</td>\n",
              "      <td>0.030088</td>\n",
              "      <td>0.012546</td>\n",
              "      <td>-0.015244</td>\n",
              "      <td>-0.024594</td>\n",
              "      <td>0.738433</td>\n",
              "      <td>1.000000</td>\n",
              "      <td>0.039661</td>\n",
              "      <td>0.325249</td>\n",
              "    </tr>\n",
              "    <tr>\n",
              "      <th>calculated_host_listings_count</th>\n",
              "      <td>0.024235</td>\n",
              "      <td>0.022713</td>\n",
              "      <td>0.012186</td>\n",
              "      <td>0.025464</td>\n",
              "      <td>-0.007350</td>\n",
              "      <td>0.002123</td>\n",
              "      <td>0.039661</td>\n",
              "      <td>1.000000</td>\n",
              "      <td>0.126483</td>\n",
              "    </tr>\n",
              "    <tr>\n",
              "      <th>availability_365</th>\n",
              "      <td>0.102491</td>\n",
              "      <td>0.040589</td>\n",
              "      <td>0.021006</td>\n",
              "      <td>0.132741</td>\n",
              "      <td>0.041135</td>\n",
              "      <td>0.306629</td>\n",
              "      <td>0.325249</td>\n",
              "      <td>0.126483</td>\n",
              "      <td>1.000000</td>\n",
              "    </tr>\n",
              "  </tbody>\n",
              "</table>\n",
              "</div>\n",
              "      <button class=\"colab-df-convert\" onclick=\"convertToInteractive('df-515b807d-1c6e-4b20-b0fb-5e84d9600f1e')\"\n",
              "              title=\"Convert this dataframe to an interactive table.\"\n",
              "              style=\"display:none;\">\n",
              "        \n",
              "  <svg xmlns=\"http://www.w3.org/2000/svg\" height=\"24px\"viewBox=\"0 0 24 24\"\n",
              "       width=\"24px\">\n",
              "    <path d=\"M0 0h24v24H0V0z\" fill=\"none\"/>\n",
              "    <path d=\"M18.56 5.44l.94 2.06.94-2.06 2.06-.94-2.06-.94-.94-2.06-.94 2.06-2.06.94zm-11 1L8.5 8.5l.94-2.06 2.06-.94-2.06-.94L8.5 2.5l-.94 2.06-2.06.94zm10 10l.94 2.06.94-2.06 2.06-.94-2.06-.94-.94-2.06-.94 2.06-2.06.94z\"/><path d=\"M17.41 7.96l-1.37-1.37c-.4-.4-.92-.59-1.43-.59-.52 0-1.04.2-1.43.59L10.3 9.45l-7.72 7.72c-.78.78-.78 2.05 0 2.83L4 21.41c.39.39.9.59 1.41.59.51 0 1.02-.2 1.41-.59l7.78-7.78 2.81-2.81c.8-.78.8-2.07 0-2.86zM5.41 20L4 18.59l7.72-7.72 1.47 1.35L5.41 20z\"/>\n",
              "  </svg>\n",
              "      </button>\n",
              "      \n",
              "  <style>\n",
              "    .colab-df-container {\n",
              "      display:flex;\n",
              "      flex-wrap:wrap;\n",
              "      gap: 12px;\n",
              "    }\n",
              "\n",
              "    .colab-df-convert {\n",
              "      background-color: #E8F0FE;\n",
              "      border: none;\n",
              "      border-radius: 50%;\n",
              "      cursor: pointer;\n",
              "      display: none;\n",
              "      fill: #1967D2;\n",
              "      height: 32px;\n",
              "      padding: 0 0 0 0;\n",
              "      width: 32px;\n",
              "    }\n",
              "\n",
              "    .colab-df-convert:hover {\n",
              "      background-color: #E2EBFA;\n",
              "      box-shadow: 0px 1px 2px rgba(60, 64, 67, 0.3), 0px 1px 3px 1px rgba(60, 64, 67, 0.15);\n",
              "      fill: #174EA6;\n",
              "    }\n",
              "\n",
              "    [theme=dark] .colab-df-convert {\n",
              "      background-color: #3B4455;\n",
              "      fill: #D2E3FC;\n",
              "    }\n",
              "\n",
              "    [theme=dark] .colab-df-convert:hover {\n",
              "      background-color: #434B5C;\n",
              "      box-shadow: 0px 1px 3px 1px rgba(0, 0, 0, 0.15);\n",
              "      filter: drop-shadow(0px 1px 2px rgba(0, 0, 0, 0.3));\n",
              "      fill: #FFFFFF;\n",
              "    }\n",
              "  </style>\n",
              "\n",
              "      <script>\n",
              "        const buttonEl =\n",
              "          document.querySelector('#df-515b807d-1c6e-4b20-b0fb-5e84d9600f1e button.colab-df-convert');\n",
              "        buttonEl.style.display =\n",
              "          google.colab.kernel.accessAllowed ? 'block' : 'none';\n",
              "\n",
              "        async function convertToInteractive(key) {\n",
              "          const element = document.querySelector('#df-515b807d-1c6e-4b20-b0fb-5e84d9600f1e');\n",
              "          const dataTable =\n",
              "            await google.colab.kernel.invokeFunction('convertToInteractive',\n",
              "                                                     [key], {});\n",
              "          if (!dataTable) return;\n",
              "\n",
              "          const docLinkHtml = 'Like what you see? Visit the ' +\n",
              "            '<a target=\"_blank\" href=https://colab.research.google.com/notebooks/data_table.ipynb>data table notebook</a>'\n",
              "            + ' to learn more about interactive tables.';\n",
              "          element.innerHTML = '';\n",
              "          dataTable['output_type'] = 'display_data';\n",
              "          await google.colab.output.renderOutput(dataTable, element);\n",
              "          const docLink = document.createElement('div');\n",
              "          docLink.innerHTML = docLinkHtml;\n",
              "          element.appendChild(docLink);\n",
              "        }\n",
              "      </script>\n",
              "    </div>\n",
              "  </div>\n",
              "  "
            ]
          },
          "metadata": {},
          "execution_count": 133
        }
      ]
    },
    {
      "cell_type": "code",
      "source": [
        "# plotting the correlations onto a heatmap\n",
        "plt.figure(figsize=(12,10))\n",
        "cor = df.corr()\n",
        "sns.heatmap(cor, annot=True, cmap=plt.cm.Reds)\n",
        "plt.show()"
      ],
      "metadata": {
        "colab": {
          "base_uri": "https://localhost:8080/",
          "height": 738
        },
        "id": "VBY8iv-vpgja",
        "outputId": "9391c362-91b5-4bef-86cb-3060a404a37d"
      },
      "execution_count": 134,
      "outputs": [
        {
          "output_type": "display_data",
          "data": {
            "text/plain": [
              "<Figure size 864x720 with 2 Axes>"
            ],
            "image/png": "[encoded data removed]"
          },
          "metadata": {
            "needs_background": "light"
          }
        }
      ]
    },
    {
      "cell_type": "markdown",
      "source": [
        "Reviews per month and number of reviews are strongly correlated hence will drop reviews per month.\n",
        "\n",
        "The rest of the variables are not strongly correlated hence i will not drop any other columns"
      ],
      "metadata": {
        "id": "DhbPHIjdpuz5"
      }
    },
    {
      "cell_type": "code",
      "source": [
        "df.drop(columns = ['reviews_per_month'], inplace = True)"
      ],
      "metadata": {
        "id": "xTBEVPJ0p0Qp"
      },
      "execution_count": 135,
      "outputs": []
    },
    {
      "cell_type": "code",
      "source": [
        "df.shape"
      ],
      "metadata": {
        "colab": {
          "base_uri": "https://localhost:8080/"
        },
        "id": "Xe6C1UbggTFm",
        "outputId": "d6b5f1cd-22d5-412b-8449-04f5ea1eed2d"
      },
      "execution_count": 136,
      "outputs": [
        {
          "output_type": "execute_result",
          "data": {
            "text/plain": [
              "(17075, 12)"
            ]
          },
          "metadata": {},
          "execution_count": 136
        }
      ]
    },
    {
      "cell_type": "markdown",
      "metadata": {
        "id": "UFT-K1wQBiU5"
      },
      "source": [
        "# <font color='#2F4F4F'>3. Data Analysis</font>"
      ]
    },
    {
      "cell_type": "markdown",
      "metadata": {
        "id": "T3ugplNYBiU5"
      },
      "source": [
        "## 3.1 Univariate Analysis "
      ]
    },
    {
      "cell_type": "code",
      "metadata": {
        "id": "hMJPsYX_BiU6",
        "colab": {
          "base_uri": "https://localhost:8080/",
          "height": 390
        },
        "outputId": "5d58dbbb-a329-4866-8188-631b956a22cf"
      },
      "source": [
        "# getting the top 10 most common hosts\n",
        "plt.figure(figsize = (10, 6))\n",
        "df.host_name.value_counts()[:10].plot(kind = 'bar', rot = 0)\n",
        "plt.title(\"Top 10 Hosts\")\n",
        "plt.show()"
      ],
      "execution_count": 137,
      "outputs": [
        {
          "output_type": "display_data",
          "data": {
            "text/plain": [
              "<Figure size 720x432 with 1 Axes>"
            ],
            "image/png": "[encoded data removed]"
          },
          "metadata": {
            "needs_background": "light"
          }
        }
      ]
    },
    {
      "cell_type": "code",
      "metadata": {
        "id": "T_NepL5vBiU9",
        "colab": {
          "base_uri": "https://localhost:8080/",
          "height": 472
        },
        "outputId": "d54a13ce-c30a-47a9-8de3-39efbe7a121b"
      },
      "source": [
        "# getting the top 10 most common neighbourhoods\n",
        "plt.figure(figsize = (10, 6))\n",
        "df.neighbourhood.value_counts()[:10].plot(kind = 'bar', rot = 25)\n",
        "plt.xticks(ha = \"right\")\n",
        "plt.title(\"Top 10 Neighbourhoods\")\n",
        "plt.show()"
      ],
      "execution_count": 138,
      "outputs": [
        {
          "output_type": "display_data",
          "data": {
            "text/plain": [
              "<Figure size 720x432 with 1 Axes>"
            ],
            "image/png": "[encoded data removed]"
          },
          "metadata": {
            "needs_background": "light"
          }
        }
      ]
    },
    {
      "cell_type": "code",
      "metadata": {
        "id": "336tKm-eBiVB",
        "colab": {
          "base_uri": "https://localhost:8080/"
        },
        "outputId": "46cca0ff-bcbb-4596-9f97-f58b26df9b96"
      },
      "source": [
        "df.room_type.value_counts()"
      ],
      "execution_count": 139,
      "outputs": [
        {
          "output_type": "execute_result",
          "data": {
            "text/plain": [
              "Entire home/apt    13308\n",
              "Private room        3497\n",
              "Hotel room           232\n",
              "Shared room           38\n",
              "Name: room_type, dtype: int64"
            ]
          },
          "metadata": {},
          "execution_count": 139
        }
      ]
    },
    {
      "cell_type": "code",
      "metadata": {
        "id": "KLmzCtedBiVE",
        "colab": {
          "base_uri": "https://localhost:8080/",
          "height": 357
        },
        "outputId": "793b73c7-1ba2-41be-daa8-53d36c97684a"
      },
      "source": [
        "# getting the most common room types\n",
        "plt.figure(figsize = (6, 6))\n",
        "labels = ['Entire home/apt', 'Private room', 'Hotel room', 'Shared room']\n",
        "df.room_type.value_counts().plot(kind = 'pie', autopct = '%0.1f%%', labels = labels)\n",
        "plt.show()"
      ],
      "execution_count": 140,
      "outputs": [
        {
          "output_type": "display_data",
          "data": {
            "text/plain": [
              "<Figure size 432x432 with 1 Axes>"
            ],
            "image/png": "[encoded data removed]"
          },
          "metadata": {}
        }
      ]
    },
    {
      "cell_type": "code",
      "metadata": {
        "id": "ffYLNxWmBiVI",
        "colab": {
          "base_uri": "https://localhost:8080/",
          "height": 336
        },
        "outputId": "c3ecfaec-c0e1-4847-8204-b9121b894304"
      },
      "source": [
        "# distribution of price\n",
        "plt.figure(figsize = (10,4))\n",
        "sns.distplot(df['price'])\n",
        "plt.show()"
      ],
      "execution_count": 141,
      "outputs": [
        {
          "output_type": "stream",
          "name": "stderr",
          "text": [
            "/usr/local/lib/python3.7/dist-packages/seaborn/distributions.py:2619: FutureWarning: `distplot` is a deprecated function and will be removed in a future version. Please adapt your code to use either `displot` (a figure-level function with similar flexibility) or `histplot` (an axes-level function for histograms).\n",
            "  warnings.warn(msg, FutureWarning)\n"
          ]
        },
        {
          "output_type": "display_data",
          "data": {
            "text/plain": [
              "<Figure size 720x288 with 1 Axes>"
            ],
            "image/png": "[encoded data removed]"
          },
          "metadata": {
            "needs_background": "light"
          }
        }
      ]
    },
    {
      "cell_type": "code",
      "metadata": {
        "id": "Y_YnBZ0RBiVL",
        "colab": {
          "base_uri": "https://localhost:8080/",
          "height": 320
        },
        "outputId": "7b5e26ee-563b-47c6-90e4-fc97bc25b8f1"
      },
      "source": [
        "# getting the top 10 most common minimum number of nights to spend\n",
        "plt.figure(figsize = (10, 5))\n",
        "df.minimum_nights.value_counts()[:10].plot(kind = 'bar', rot = 0)\n",
        "plt.show()"
      ],
      "execution_count": 142,
      "outputs": [
        {
          "output_type": "display_data",
          "data": {
            "text/plain": [
              "<Figure size 720x360 with 1 Axes>"
            ],
            "image/png": "[encoded data removed]"
          },
          "metadata": {
            "needs_background": "light"
          }
        }
      ]
    },
    {
      "cell_type": "markdown",
      "metadata": {
        "id": "OeZUEETkBiVO"
      },
      "source": [
        "## 3.2 Bivariate Analysis"
      ]
    },
    {
      "cell_type": "code",
      "metadata": {
        "id": "ONWbn9UqBiVP",
        "colab": {
          "base_uri": "https://localhost:8080/",
          "height": 388
        },
        "outputId": "ddd362fb-daeb-4944-fe0a-e8ec98a39ac0"
      },
      "source": [
        "# price by room type\n",
        "df.hist('price', by = 'room_type', rot = 0, figsize = (10, 6))\n",
        "plt.show()"
      ],
      "execution_count": 143,
      "outputs": [
        {
          "output_type": "display_data",
          "data": {
            "text/plain": [
              "<Figure size 720x432 with 4 Axes>"
            ],
            "image/png": "[encoded data removed]"
          },
          "metadata": {
            "needs_background": "light"
          }
        }
      ]
    },
    {
      "cell_type": "code",
      "source": [
        "df.shape"
      ],
      "metadata": {
        "id": "jHVdo9OSlXjH",
        "colab": {
          "base_uri": "https://localhost:8080/"
        },
        "outputId": "f9843cbf-09e6-422c-a503-8fa0b193fc53"
      },
      "execution_count": 144,
      "outputs": [
        {
          "output_type": "execute_result",
          "data": {
            "text/plain": [
              "(17075, 12)"
            ]
          },
          "metadata": {},
          "execution_count": 144
        }
      ]
    },
    {
      "cell_type": "code",
      "metadata": {
        "id": "1_r0mB2YBiVT",
        "colab": {
          "base_uri": "https://localhost:8080/"
        },
        "outputId": "9805b4c2-d299-47fb-e978-f81a21e040a4"
      },
      "source": [
        "# average price by neighbourhood\n",
        "df.groupby('neighbourhood')['price'].mean().sort_values(ascending = False)"
      ],
      "execution_count": 145,
      "outputs": [
        {
          "output_type": "execute_result",
          "data": {
            "text/plain": [
              "neighbourhood\n",
              "Centrum-West                              203.653397\n",
              "Centrum-Oost                              190.534247\n",
              "Zuid                                      178.813243\n",
              "Oud-Noord                                 168.763566\n",
              "De Pijp - Rivierenbuurt                   166.601787\n",
              "IJburg - Zeeburgereiland                  157.723077\n",
              "Westerpark                                151.241140\n",
              "De Baarsjes - Oud-West                    149.376228\n",
              "Oud-Oost                                  144.606957\n",
              "Watergraafsmeer                           141.199125\n",
              "Buitenveldert - Zuidas                    137.690355\n",
              "Oostelijk Havengebied - Indische Buurt    135.101163\n",
              "Noord-Oost                                130.495833\n",
              "Noord-West                                126.318885\n",
              "Bos en Lommer                             122.525304\n",
              "De Aker - Nieuw Sloten                    121.268908\n",
              "Slotervaart                               119.791549\n",
              "Geuzenveld - Slotermeer                   113.937143\n",
              "Osdorp                                    103.418182\n",
              "Gaasperdam - Driemond                      96.317757\n",
              "Bijlmer-Centrum                            91.434343\n",
              "Bijlmer-Oost                               89.696629\n",
              "Name: price, dtype: float64"
            ]
          },
          "metadata": {},
          "execution_count": 145
        }
      ]
    },
    {
      "cell_type": "code",
      "metadata": {
        "id": "icZWqXs3BiVd",
        "colab": {
          "base_uri": "https://localhost:8080/"
        },
        "outputId": "005ea625-2c2f-4bfc-b549-5937e266399f"
      },
      "source": [
        "# average price by neighbourhood\n",
        "df.groupby('minimum_nights')['price'].mean().sort_values(ascending = False)"
      ],
      "execution_count": 146,
      "outputs": [
        {
          "output_type": "execute_result",
          "data": {
            "text/plain": [
              "minimum_nights\n",
              "365     3000.000000\n",
              "99       999.000000\n",
              "200      999.000000\n",
              "52       429.000000\n",
              "30       331.551020\n",
              "222      300.000000\n",
              "27       275.000000\n",
              "48       250.000000\n",
              "31       243.750000\n",
              "150      203.000000\n",
              "21       201.761905\n",
              "15       197.888889\n",
              "1000     185.000000\n",
              "240      180.000000\n",
              "28       175.900000\n",
              "7        174.760526\n",
              "300      170.500000\n",
              "180      169.250000\n",
              "3        166.936544\n",
              "14       163.476923\n",
              "38       159.000000\n",
              "4        158.828311\n",
              "45       157.500000\n",
              "5        155.676190\n",
              "1        154.149670\n",
              "60       152.071429\n",
              "2        151.557365\n",
              "24       150.000000\n",
              "22       150.000000\n",
              "6        146.276923\n",
              "59       146.250000\n",
              "40       139.000000\n",
              "9        136.250000\n",
              "41       131.000000\n",
              "20       130.185185\n",
              "1001     130.000000\n",
              "16       129.666667\n",
              "100      127.000000\n",
              "90       126.250000\n",
              "10       125.709677\n",
              "18       125.000000\n",
              "8        120.730769\n",
              "29       120.000000\n",
              "999      120.000000\n",
              "25       118.555556\n",
              "12       118.083333\n",
              "500      110.000000\n",
              "50       110.000000\n",
              "17       109.500000\n",
              "95       105.000000\n",
              "13       104.750000\n",
              "120      104.500000\n",
              "186      100.000000\n",
              "37        95.000000\n",
              "19        93.000000\n",
              "70        90.000000\n",
              "23        89.000000\n",
              "11        83.333333\n",
              "89        77.000000\n",
              "35        45.000000\n",
              "Name: price, dtype: float64"
            ]
          },
          "metadata": {},
          "execution_count": 146
        }
      ]
    },
    {
      "cell_type": "markdown",
      "metadata": {
        "id": "RAMIxPNBBiVh"
      },
      "source": [
        "## 3.3 Feature Engineering"
      ]
    },
    {
      "cell_type": "code",
      "metadata": {
        "id": "amDK304_BiVi",
        "colab": {
          "base_uri": "https://localhost:8080/",
          "height": 374
        },
        "outputId": "6a55d8e1-13e9-4381-de01-94f8d25b199e"
      },
      "source": [
        "# getting the average price per room type\n",
        "\n",
        "avg_price_per_room = df.groupby('room_type')['price'].mean().to_dict()\n",
        "\n",
        "# adding to our dataset\n",
        "df['avg_price_per_room'] = df['room_type'].map(avg_price_per_room)\n",
        "\n",
        "# previewing our modified dataset\n",
        "\n",
        "df.head()"
      ],
      "execution_count": 147,
      "outputs": [
        {
          "output_type": "execute_result",
          "data": {
            "text/plain": [
              "   host_id  host_name                           neighbourhood  latitude  \\\n",
              "0     3159     Daniel  Oostelijk Havengebied - Indische Buurt  52.36575   \n",
              "1    59484  Alexander                            Centrum-Oost  52.36509   \n",
              "2    56142       Joan                            Centrum-West  52.37297   \n",
              "3    97647       Flip                            Centrum-West  52.38761   \n",
              "4   124245      Edwin                            Centrum-West  52.36719   \n",
              "\n",
              "   longitude        room_type  price  minimum_nights  number_of_reviews  \\\n",
              "0    4.94142     Private room     59               3                278   \n",
              "1    4.89354     Private room    100               1                340   \n",
              "2    4.88339  Entire home/apt    125              14                  5   \n",
              "3    4.89188     Private room    155               2                217   \n",
              "4    4.89092     Private room     75               2                332   \n",
              "\n",
              "  last_review  calculated_host_listings_count  availability_365  \\\n",
              "0  2020-02-14                               1               169   \n",
              "1  2020-04-09                               2               106   \n",
              "2  2020-02-09                               1               132   \n",
              "3  2020-03-02                               1               172   \n",
              "4  2020-03-16                               3               210   \n",
              "\n",
              "   avg_price_per_room  \n",
              "0          109.421504  \n",
              "1          109.421504  \n",
              "2          169.179967  \n",
              "3          109.421504  \n",
              "4          109.421504  "
            ],
            "text/html": [
              "\n",
              "  <div id=\"df-1076955b-1fc1-4bac-8ac8-35dc9e05aada\">\n",
              "    <div class=\"colab-df-container\">\n",
              "      <div>\n",
              "<style scoped>\n",
              "    .dataframe tbody tr th:only-of-type {\n",
              "        vertical-align: middle;\n",
              "    }\n",
              "\n",
              "    .dataframe tbody tr th {\n",
              "        vertical-align: top;\n",
              "    }\n",
              "\n",
              "    .dataframe thead th {\n",
              "        text-align: right;\n",
              "    }\n",
              "</style>\n",
              "<table border=\"1\" class=\"dataframe\">\n",
              "  <thead>\n",
              "    <tr style=\"text-align: right;\">\n",
              "      <th></th>\n",
              "      <th>host_id</th>\n",
              "      <th>host_name</th>\n",
              "      <th>neighbourhood</th>\n",
              "      <th>latitude</th>\n",
              "      <th>longitude</th>\n",
              "      <th>room_type</th>\n",
              "      <th>price</th>\n",
              "      <th>minimum_nights</th>\n",
              "      <th>number_of_reviews</th>\n",
              "      <th>last_review</th>\n",
              "      <th>calculated_host_listings_count</th>\n",
              "      <th>availability_365</th>\n",
              "      <th>avg_price_per_room</th>\n",
              "    </tr>\n",
              "  </thead>\n",
              "  <tbody>\n",
              "    <tr>\n",
              "      <th>0</th>\n",
              "      <td>3159</td>\n",
              "      <td>Daniel</td>\n",
              "      <td>Oostelijk Havengebied - Indische Buurt</td>\n",
              "      <td>52.36575</td>\n",
              "      <td>4.94142</td>\n",
              "      <td>Private room</td>\n",
              "      <td>59</td>\n",
              "      <td>3</td>\n",
              "      <td>278</td>\n",
              "      <td>2020-02-14</td>\n",
              "      <td>1</td>\n",
              "      <td>169</td>\n",
              "      <td>109.421504</td>\n",
              "    </tr>\n",
              "    <tr>\n",
              "      <th>1</th>\n",
              "      <td>59484</td>\n",
              "      <td>Alexander</td>\n",
              "      <td>Centrum-Oost</td>\n",
              "      <td>52.36509</td>\n",
              "      <td>4.89354</td>\n",
              "      <td>Private room</td>\n",
              "      <td>100</td>\n",
              "      <td>1</td>\n",
              "      <td>340</td>\n",
              "      <td>2020-04-09</td>\n",
              "      <td>2</td>\n",
              "      <td>106</td>\n",
              "      <td>109.421504</td>\n",
              "    </tr>\n",
              "    <tr>\n",
              "      <th>2</th>\n",
              "      <td>56142</td>\n",
              "      <td>Joan</td>\n",
              "      <td>Centrum-West</td>\n",
              "      <td>52.37297</td>\n",
              "      <td>4.88339</td>\n",
              "      <td>Entire home/apt</td>\n",
              "      <td>125</td>\n",
              "      <td>14</td>\n",
              "      <td>5</td>\n",
              "      <td>2020-02-09</td>\n",
              "      <td>1</td>\n",
              "      <td>132</td>\n",
              "      <td>169.179967</td>\n",
              "    </tr>\n",
              "    <tr>\n",
              "      <th>3</th>\n",
              "      <td>97647</td>\n",
              "      <td>Flip</td>\n",
              "      <td>Centrum-West</td>\n",
              "      <td>52.38761</td>\n",
              "      <td>4.89188</td>\n",
              "      <td>Private room</td>\n",
              "      <td>155</td>\n",
              "      <td>2</td>\n",
              "      <td>217</td>\n",
              "      <td>2020-03-02</td>\n",
              "      <td>1</td>\n",
              "      <td>172</td>\n",
              "      <td>109.421504</td>\n",
              "    </tr>\n",
              "    <tr>\n",
              "      <th>4</th>\n",
              "      <td>124245</td>\n",
              "      <td>Edwin</td>\n",
              "      <td>Centrum-West</td>\n",
              "      <td>52.36719</td>\n",
              "      <td>4.89092</td>\n",
              "      <td>Private room</td>\n",
              "      <td>75</td>\n",
              "      <td>2</td>\n",
              "      <td>332</td>\n",
              "      <td>2020-03-16</td>\n",
              "      <td>3</td>\n",
              "      <td>210</td>\n",
              "      <td>109.421504</td>\n",
              "    </tr>\n",
              "  </tbody>\n",
              "</table>\n",
              "</div>\n",
              "      <button class=\"colab-df-convert\" onclick=\"convertToInteractive('df-1076955b-1fc1-4bac-8ac8-35dc9e05aada')\"\n",
              "              title=\"Convert this dataframe to an interactive table.\"\n",
              "              style=\"display:none;\">\n",
              "        \n",
              "  <svg xmlns=\"http://www.w3.org/2000/svg\" height=\"24px\"viewBox=\"0 0 24 24\"\n",
              "       width=\"24px\">\n",
              "    <path d=\"M0 0h24v24H0V0z\" fill=\"none\"/>\n",
              "    <path d=\"M18.56 5.44l.94 2.06.94-2.06 2.06-.94-2.06-.94-.94-2.06-.94 2.06-2.06.94zm-11 1L8.5 8.5l.94-2.06 2.06-.94-2.06-.94L8.5 2.5l-.94 2.06-2.06.94zm10 10l.94 2.06.94-2.06 2.06-.94-2.06-.94-.94-2.06-.94 2.06-2.06.94z\"/><path d=\"M17.41 7.96l-1.37-1.37c-.4-.4-.92-.59-1.43-.59-.52 0-1.04.2-1.43.59L10.3 9.45l-7.72 7.72c-.78.78-.78 2.05 0 2.83L4 21.41c.39.39.9.59 1.41.59.51 0 1.02-.2 1.41-.59l7.78-7.78 2.81-2.81c.8-.78.8-2.07 0-2.86zM5.41 20L4 18.59l7.72-7.72 1.47 1.35L5.41 20z\"/>\n",
              "  </svg>\n",
              "      </button>\n",
              "      \n",
              "  <style>\n",
              "    .colab-df-container {\n",
              "      display:flex;\n",
              "      flex-wrap:wrap;\n",
              "      gap: 12px;\n",
              "    }\n",
              "\n",
              "    .colab-df-convert {\n",
              "      background-color: #E8F0FE;\n",
              "      border: none;\n",
              "      border-radius: 50%;\n",
              "      cursor: pointer;\n",
              "      display: none;\n",
              "      fill: #1967D2;\n",
              "      height: 32px;\n",
              "      padding: 0 0 0 0;\n",
              "      width: 32px;\n",
              "    }\n",
              "\n",
              "    .colab-df-convert:hover {\n",
              "      background-color: #E2EBFA;\n",
              "      box-shadow: 0px 1px 2px rgba(60, 64, 67, 0.3), 0px 1px 3px 1px rgba(60, 64, 67, 0.15);\n",
              "      fill: #174EA6;\n",
              "    }\n",
              "\n",
              "    [theme=dark] .colab-df-convert {\n",
              "      background-color: #3B4455;\n",
              "      fill: #D2E3FC;\n",
              "    }\n",
              "\n",
              "    [theme=dark] .colab-df-convert:hover {\n",
              "      background-color: #434B5C;\n",
              "      box-shadow: 0px 1px 3px 1px rgba(0, 0, 0, 0.15);\n",
              "      filter: drop-shadow(0px 1px 2px rgba(0, 0, 0, 0.3));\n",
              "      fill: #FFFFFF;\n",
              "    }\n",
              "  </style>\n",
              "\n",
              "      <script>\n",
              "        const buttonEl =\n",
              "          document.querySelector('#df-1076955b-1fc1-4bac-8ac8-35dc9e05aada button.colab-df-convert');\n",
              "        buttonEl.style.display =\n",
              "          google.colab.kernel.accessAllowed ? 'block' : 'none';\n",
              "\n",
              "        async function convertToInteractive(key) {\n",
              "          const element = document.querySelector('#df-1076955b-1fc1-4bac-8ac8-35dc9e05aada');\n",
              "          const dataTable =\n",
              "            await google.colab.kernel.invokeFunction('convertToInteractive',\n",
              "                                                     [key], {});\n",
              "          if (!dataTable) return;\n",
              "\n",
              "          const docLinkHtml = 'Like what you see? Visit the ' +\n",
              "            '<a target=\"_blank\" href=https://colab.research.google.com/notebooks/data_table.ipynb>data table notebook</a>'\n",
              "            + ' to learn more about interactive tables.';\n",
              "          element.innerHTML = '';\n",
              "          dataTable['output_type'] = 'display_data';\n",
              "          await google.colab.output.renderOutput(dataTable, element);\n",
              "          const docLink = document.createElement('div');\n",
              "          docLink.innerHTML = docLinkHtml;\n",
              "          element.appendChild(docLink);\n",
              "        }\n",
              "      </script>\n",
              "    </div>\n",
              "  </div>\n",
              "  "
            ]
          },
          "metadata": {},
          "execution_count": 147
        }
      ]
    },
    {
      "cell_type": "code",
      "source": [
        "# getting the average price per neighbourhood\n",
        "\n",
        "avg_price_per_neighbourhood = df.groupby('neighbourhood').price.transform('mean')\n",
        "\n",
        "# adding to our dataset\n",
        "\n",
        "df['avg_price_per_neighbourhood'] = avg_price_per_neighbourhood\n",
        "\n",
        "# previewing our modified dataset\n",
        "\n",
        "df.head()"
      ],
      "metadata": {
        "id": "W7avItaeOdyj",
        "colab": {
          "base_uri": "https://localhost:8080/",
          "height": 374
        },
        "outputId": "34a14099-3d3e-4c97-d005-8e97ca81ba86"
      },
      "execution_count": 148,
      "outputs": [
        {
          "output_type": "execute_result",
          "data": {
            "text/plain": [
              "   host_id  host_name                           neighbourhood  latitude  \\\n",
              "0     3159     Daniel  Oostelijk Havengebied - Indische Buurt  52.36575   \n",
              "1    59484  Alexander                            Centrum-Oost  52.36509   \n",
              "2    56142       Joan                            Centrum-West  52.37297   \n",
              "3    97647       Flip                            Centrum-West  52.38761   \n",
              "4   124245      Edwin                            Centrum-West  52.36719   \n",
              "\n",
              "   longitude        room_type  price  minimum_nights  number_of_reviews  \\\n",
              "0    4.94142     Private room     59               3                278   \n",
              "1    4.89354     Private room    100               1                340   \n",
              "2    4.88339  Entire home/apt    125              14                  5   \n",
              "3    4.89188     Private room    155               2                217   \n",
              "4    4.89092     Private room     75               2                332   \n",
              "\n",
              "  last_review  calculated_host_listings_count  availability_365  \\\n",
              "0  2020-02-14                               1               169   \n",
              "1  2020-04-09                               2               106   \n",
              "2  2020-02-09                               1               132   \n",
              "3  2020-03-02                               1               172   \n",
              "4  2020-03-16                               3               210   \n",
              "\n",
              "   avg_price_per_room  avg_price_per_neighbourhood  \n",
              "0          109.421504                   135.101163  \n",
              "1          109.421504                   190.534247  \n",
              "2          169.179967                   203.653397  \n",
              "3          109.421504                   203.653397  \n",
              "4          109.421504                   203.653397  "
            ],
            "text/html": [
              "\n",
              "  <div id=\"df-3b533920-dbce-45eb-a280-1e803c5a7770\">\n",
              "    <div class=\"colab-df-container\">\n",
              "      <div>\n",
              "<style scoped>\n",
              "    .dataframe tbody tr th:only-of-type {\n",
              "        vertical-align: middle;\n",
              "    }\n",
              "\n",
              "    .dataframe tbody tr th {\n",
              "        vertical-align: top;\n",
              "    }\n",
              "\n",
              "    .dataframe thead th {\n",
              "        text-align: right;\n",
              "    }\n",
              "</style>\n",
              "<table border=\"1\" class=\"dataframe\">\n",
              "  <thead>\n",
              "    <tr style=\"text-align: right;\">\n",
              "      <th></th>\n",
              "      <th>host_id</th>\n",
              "      <th>host_name</th>\n",
              "      <th>neighbourhood</th>\n",
              "      <th>latitude</th>\n",
              "      <th>longitude</th>\n",
              "      <th>room_type</th>\n",
              "      <th>price</th>\n",
              "      <th>minimum_nights</th>\n",
              "      <th>number_of_reviews</th>\n",
              "      <th>last_review</th>\n",
              "      <th>calculated_host_listings_count</th>\n",
              "      <th>availability_365</th>\n",
              "      <th>avg_price_per_room</th>\n",
              "      <th>avg_price_per_neighbourhood</th>\n",
              "    </tr>\n",
              "  </thead>\n",
              "  <tbody>\n",
              "    <tr>\n",
              "      <th>0</th>\n",
              "      <td>3159</td>\n",
              "      <td>Daniel</td>\n",
              "      <td>Oostelijk Havengebied - Indische Buurt</td>\n",
              "      <td>52.36575</td>\n",
              "      <td>4.94142</td>\n",
              "      <td>Private room</td>\n",
              "      <td>59</td>\n",
              "      <td>3</td>\n",
              "      <td>278</td>\n",
              "      <td>2020-02-14</td>\n",
              "      <td>1</td>\n",
              "      <td>169</td>\n",
              "      <td>109.421504</td>\n",
              "      <td>135.101163</td>\n",
              "    </tr>\n",
              "    <tr>\n",
              "      <th>1</th>\n",
              "      <td>59484</td>\n",
              "      <td>Alexander</td>\n",
              "      <td>Centrum-Oost</td>\n",
              "      <td>52.36509</td>\n",
              "      <td>4.89354</td>\n",
              "      <td>Private room</td>\n",
              "      <td>100</td>\n",
              "      <td>1</td>\n",
              "      <td>340</td>\n",
              "      <td>2020-04-09</td>\n",
              "      <td>2</td>\n",
              "      <td>106</td>\n",
              "      <td>109.421504</td>\n",
              "      <td>190.534247</td>\n",
              "    </tr>\n",
              "    <tr>\n",
              "      <th>2</th>\n",
              "      <td>56142</td>\n",
              "      <td>Joan</td>\n",
              "      <td>Centrum-West</td>\n",
              "      <td>52.37297</td>\n",
              "      <td>4.88339</td>\n",
              "      <td>Entire home/apt</td>\n",
              "      <td>125</td>\n",
              "      <td>14</td>\n",
              "      <td>5</td>\n",
              "      <td>2020-02-09</td>\n",
              "      <td>1</td>\n",
              "      <td>132</td>\n",
              "      <td>169.179967</td>\n",
              "      <td>203.653397</td>\n",
              "    </tr>\n",
              "    <tr>\n",
              "      <th>3</th>\n",
              "      <td>97647</td>\n",
              "      <td>Flip</td>\n",
              "      <td>Centrum-West</td>\n",
              "      <td>52.38761</td>\n",
              "      <td>4.89188</td>\n",
              "      <td>Private room</td>\n",
              "      <td>155</td>\n",
              "      <td>2</td>\n",
              "      <td>217</td>\n",
              "      <td>2020-03-02</td>\n",
              "      <td>1</td>\n",
              "      <td>172</td>\n",
              "      <td>109.421504</td>\n",
              "      <td>203.653397</td>\n",
              "    </tr>\n",
              "    <tr>\n",
              "      <th>4</th>\n",
              "      <td>124245</td>\n",
              "      <td>Edwin</td>\n",
              "      <td>Centrum-West</td>\n",
              "      <td>52.36719</td>\n",
              "      <td>4.89092</td>\n",
              "      <td>Private room</td>\n",
              "      <td>75</td>\n",
              "      <td>2</td>\n",
              "      <td>332</td>\n",
              "      <td>2020-03-16</td>\n",
              "      <td>3</td>\n",
              "      <td>210</td>\n",
              "      <td>109.421504</td>\n",
              "      <td>203.653397</td>\n",
              "    </tr>\n",
              "  </tbody>\n",
              "</table>\n",
              "</div>\n",
              "      <button class=\"colab-df-convert\" onclick=\"convertToInteractive('df-3b533920-dbce-45eb-a280-1e803c5a7770')\"\n",
              "              title=\"Convert this dataframe to an interactive table.\"\n",
              "              style=\"display:none;\">\n",
              "        \n",
              "  <svg xmlns=\"http://www.w3.org/2000/svg\" height=\"24px\"viewBox=\"0 0 24 24\"\n",
              "       width=\"24px\">\n",
              "    <path d=\"M0 0h24v24H0V0z\" fill=\"none\"/>\n",
              "    <path d=\"M18.56 5.44l.94 2.06.94-2.06 2.06-.94-2.06-.94-.94-2.06-.94 2.06-2.06.94zm-11 1L8.5 8.5l.94-2.06 2.06-.94-2.06-.94L8.5 2.5l-.94 2.06-2.06.94zm10 10l.94 2.06.94-2.06 2.06-.94-2.06-.94-.94-2.06-.94 2.06-2.06.94z\"/><path d=\"M17.41 7.96l-1.37-1.37c-.4-.4-.92-.59-1.43-.59-.52 0-1.04.2-1.43.59L10.3 9.45l-7.72 7.72c-.78.78-.78 2.05 0 2.83L4 21.41c.39.39.9.59 1.41.59.51 0 1.02-.2 1.41-.59l7.78-7.78 2.81-2.81c.8-.78.8-2.07 0-2.86zM5.41 20L4 18.59l7.72-7.72 1.47 1.35L5.41 20z\"/>\n",
              "  </svg>\n",
              "      </button>\n",
              "      \n",
              "  <style>\n",
              "    .colab-df-container {\n",
              "      display:flex;\n",
              "      flex-wrap:wrap;\n",
              "      gap: 12px;\n",
              "    }\n",
              "\n",
              "    .colab-df-convert {\n",
              "      background-color: #E8F0FE;\n",
              "      border: none;\n",
              "      border-radius: 50%;\n",
              "      cursor: pointer;\n",
              "      display: none;\n",
              "      fill: #1967D2;\n",
              "      height: 32px;\n",
              "      padding: 0 0 0 0;\n",
              "      width: 32px;\n",
              "    }\n",
              "\n",
              "    .colab-df-convert:hover {\n",
              "      background-color: #E2EBFA;\n",
              "      box-shadow: 0px 1px 2px rgba(60, 64, 67, 0.3), 0px 1px 3px 1px rgba(60, 64, 67, 0.15);\n",
              "      fill: #174EA6;\n",
              "    }\n",
              "\n",
              "    [theme=dark] .colab-df-convert {\n",
              "      background-color: #3B4455;\n",
              "      fill: #D2E3FC;\n",
              "    }\n",
              "\n",
              "    [theme=dark] .colab-df-convert:hover {\n",
              "      background-color: #434B5C;\n",
              "      box-shadow: 0px 1px 3px 1px rgba(0, 0, 0, 0.15);\n",
              "      filter: drop-shadow(0px 1px 2px rgba(0, 0, 0, 0.3));\n",
              "      fill: #FFFFFF;\n",
              "    }\n",
              "  </style>\n",
              "\n",
              "      <script>\n",
              "        const buttonEl =\n",
              "          document.querySelector('#df-3b533920-dbce-45eb-a280-1e803c5a7770 button.colab-df-convert');\n",
              "        buttonEl.style.display =\n",
              "          google.colab.kernel.accessAllowed ? 'block' : 'none';\n",
              "\n",
              "        async function convertToInteractive(key) {\n",
              "          const element = document.querySelector('#df-3b533920-dbce-45eb-a280-1e803c5a7770');\n",
              "          const dataTable =\n",
              "            await google.colab.kernel.invokeFunction('convertToInteractive',\n",
              "                                                     [key], {});\n",
              "          if (!dataTable) return;\n",
              "\n",
              "          const docLinkHtml = 'Like what you see? Visit the ' +\n",
              "            '<a target=\"_blank\" href=https://colab.research.google.com/notebooks/data_table.ipynb>data table notebook</a>'\n",
              "            + ' to learn more about interactive tables.';\n",
              "          element.innerHTML = '';\n",
              "          dataTable['output_type'] = 'display_data';\n",
              "          await google.colab.output.renderOutput(dataTable, element);\n",
              "          const docLink = document.createElement('div');\n",
              "          docLink.innerHTML = docLinkHtml;\n",
              "          element.appendChild(docLink);\n",
              "        }\n",
              "      </script>\n",
              "    </div>\n",
              "  </div>\n",
              "  "
            ]
          },
          "metadata": {},
          "execution_count": 148
        }
      ]
    },
    {
      "cell_type": "code",
      "metadata": {
        "id": "5cE9g8rHBiVp",
        "colab": {
          "base_uri": "https://localhost:8080/",
          "height": 374
        },
        "outputId": "d5b0ad59-38aa-479c-834e-f1179ce23073"
      },
      "source": [
        "# assign the numbers based on the average values\n",
        "room_type_map = {'Private room':1,'Shared room':2,'Entire home/apt':3,'Hotel room':4}\n",
        "\n",
        "# create a new column in the dataframe\n",
        "df['room_type_encode'] = df['room_type'].map(room_type_map)\n",
        "df.head()"
      ],
      "execution_count": 149,
      "outputs": [
        {
          "output_type": "execute_result",
          "data": {
            "text/plain": [
              "   host_id  host_name                           neighbourhood  latitude  \\\n",
              "0     3159     Daniel  Oostelijk Havengebied - Indische Buurt  52.36575   \n",
              "1    59484  Alexander                            Centrum-Oost  52.36509   \n",
              "2    56142       Joan                            Centrum-West  52.37297   \n",
              "3    97647       Flip                            Centrum-West  52.38761   \n",
              "4   124245      Edwin                            Centrum-West  52.36719   \n",
              "\n",
              "   longitude        room_type  price  minimum_nights  number_of_reviews  \\\n",
              "0    4.94142     Private room     59               3                278   \n",
              "1    4.89354     Private room    100               1                340   \n",
              "2    4.88339  Entire home/apt    125              14                  5   \n",
              "3    4.89188     Private room    155               2                217   \n",
              "4    4.89092     Private room     75               2                332   \n",
              "\n",
              "  last_review  calculated_host_listings_count  availability_365  \\\n",
              "0  2020-02-14                               1               169   \n",
              "1  2020-04-09                               2               106   \n",
              "2  2020-02-09                               1               132   \n",
              "3  2020-03-02                               1               172   \n",
              "4  2020-03-16                               3               210   \n",
              "\n",
              "   avg_price_per_room  avg_price_per_neighbourhood  room_type_encode  \n",
              "0          109.421504                   135.101163                 1  \n",
              "1          109.421504                   190.534247                 1  \n",
              "2          169.179967                   203.653397                 3  \n",
              "3          109.421504                   203.653397                 1  \n",
              "4          109.421504                   203.653397                 1  "
            ],
            "text/html": [
              "\n",
              "  <div id=\"df-4198e413-1a2c-406e-81de-a02daebefa8d\">\n",
              "    <div class=\"colab-df-container\">\n",
              "      <div>\n",
              "<style scoped>\n",
              "    .dataframe tbody tr th:only-of-type {\n",
              "        vertical-align: middle;\n",
              "    }\n",
              "\n",
              "    .dataframe tbody tr th {\n",
              "        vertical-align: top;\n",
              "    }\n",
              "\n",
              "    .dataframe thead th {\n",
              "        text-align: right;\n",
              "    }\n",
              "</style>\n",
              "<table border=\"1\" class=\"dataframe\">\n",
              "  <thead>\n",
              "    <tr style=\"text-align: right;\">\n",
              "      <th></th>\n",
              "      <th>host_id</th>\n",
              "      <th>host_name</th>\n",
              "      <th>neighbourhood</th>\n",
              "      <th>latitude</th>\n",
              "      <th>longitude</th>\n",
              "      <th>room_type</th>\n",
              "      <th>price</th>\n",
              "      <th>minimum_nights</th>\n",
              "      <th>number_of_reviews</th>\n",
              "      <th>last_review</th>\n",
              "      <th>calculated_host_listings_count</th>\n",
              "      <th>availability_365</th>\n",
              "      <th>avg_price_per_room</th>\n",
              "      <th>avg_price_per_neighbourhood</th>\n",
              "      <th>room_type_encode</th>\n",
              "    </tr>\n",
              "  </thead>\n",
              "  <tbody>\n",
              "    <tr>\n",
              "      <th>0</th>\n",
              "      <td>3159</td>\n",
              "      <td>Daniel</td>\n",
              "      <td>Oostelijk Havengebied - Indische Buurt</td>\n",
              "      <td>52.36575</td>\n",
              "      <td>4.94142</td>\n",
              "      <td>Private room</td>\n",
              "      <td>59</td>\n",
              "      <td>3</td>\n",
              "      <td>278</td>\n",
              "      <td>2020-02-14</td>\n",
              "      <td>1</td>\n",
              "      <td>169</td>\n",
              "      <td>109.421504</td>\n",
              "      <td>135.101163</td>\n",
              "      <td>1</td>\n",
              "    </tr>\n",
              "    <tr>\n",
              "      <th>1</th>\n",
              "      <td>59484</td>\n",
              "      <td>Alexander</td>\n",
              "      <td>Centrum-Oost</td>\n",
              "      <td>52.36509</td>\n",
              "      <td>4.89354</td>\n",
              "      <td>Private room</td>\n",
              "      <td>100</td>\n",
              "      <td>1</td>\n",
              "      <td>340</td>\n",
              "      <td>2020-04-09</td>\n",
              "      <td>2</td>\n",
              "      <td>106</td>\n",
              "      <td>109.421504</td>\n",
              "      <td>190.534247</td>\n",
              "      <td>1</td>\n",
              "    </tr>\n",
              "    <tr>\n",
              "      <th>2</th>\n",
              "      <td>56142</td>\n",
              "      <td>Joan</td>\n",
              "      <td>Centrum-West</td>\n",
              "      <td>52.37297</td>\n",
              "      <td>4.88339</td>\n",
              "      <td>Entire home/apt</td>\n",
              "      <td>125</td>\n",
              "      <td>14</td>\n",
              "      <td>5</td>\n",
              "      <td>2020-02-09</td>\n",
              "      <td>1</td>\n",
              "      <td>132</td>\n",
              "      <td>169.179967</td>\n",
              "      <td>203.653397</td>\n",
              "      <td>3</td>\n",
              "    </tr>\n",
              "    <tr>\n",
              "      <th>3</th>\n",
              "      <td>97647</td>\n",
              "      <td>Flip</td>\n",
              "      <td>Centrum-West</td>\n",
              "      <td>52.38761</td>\n",
              "      <td>4.89188</td>\n",
              "      <td>Private room</td>\n",
              "      <td>155</td>\n",
              "      <td>2</td>\n",
              "      <td>217</td>\n",
              "      <td>2020-03-02</td>\n",
              "      <td>1</td>\n",
              "      <td>172</td>\n",
              "      <td>109.421504</td>\n",
              "      <td>203.653397</td>\n",
              "      <td>1</td>\n",
              "    </tr>\n",
              "    <tr>\n",
              "      <th>4</th>\n",
              "      <td>124245</td>\n",
              "      <td>Edwin</td>\n",
              "      <td>Centrum-West</td>\n",
              "      <td>52.36719</td>\n",
              "      <td>4.89092</td>\n",
              "      <td>Private room</td>\n",
              "      <td>75</td>\n",
              "      <td>2</td>\n",
              "      <td>332</td>\n",
              "      <td>2020-03-16</td>\n",
              "      <td>3</td>\n",
              "      <td>210</td>\n",
              "      <td>109.421504</td>\n",
              "      <td>203.653397</td>\n",
              "      <td>1</td>\n",
              "    </tr>\n",
              "  </tbody>\n",
              "</table>\n",
              "</div>\n",
              "      <button class=\"colab-df-convert\" onclick=\"convertToInteractive('df-4198e413-1a2c-406e-81de-a02daebefa8d')\"\n",
              "              title=\"Convert this dataframe to an interactive table.\"\n",
              "              style=\"display:none;\">\n",
              "        \n",
              "  <svg xmlns=\"http://www.w3.org/2000/svg\" height=\"24px\"viewBox=\"0 0 24 24\"\n",
              "       width=\"24px\">\n",
              "    <path d=\"M0 0h24v24H0V0z\" fill=\"none\"/>\n",
              "    <path d=\"M18.56 5.44l.94 2.06.94-2.06 2.06-.94-2.06-.94-.94-2.06-.94 2.06-2.06.94zm-11 1L8.5 8.5l.94-2.06 2.06-.94-2.06-.94L8.5 2.5l-.94 2.06-2.06.94zm10 10l.94 2.06.94-2.06 2.06-.94-2.06-.94-.94-2.06-.94 2.06-2.06.94z\"/><path d=\"M17.41 7.96l-1.37-1.37c-.4-.4-.92-.59-1.43-.59-.52 0-1.04.2-1.43.59L10.3 9.45l-7.72 7.72c-.78.78-.78 2.05 0 2.83L4 21.41c.39.39.9.59 1.41.59.51 0 1.02-.2 1.41-.59l7.78-7.78 2.81-2.81c.8-.78.8-2.07 0-2.86zM5.41 20L4 18.59l7.72-7.72 1.47 1.35L5.41 20z\"/>\n",
              "  </svg>\n",
              "      </button>\n",
              "      \n",
              "  <style>\n",
              "    .colab-df-container {\n",
              "      display:flex;\n",
              "      flex-wrap:wrap;\n",
              "      gap: 12px;\n",
              "    }\n",
              "\n",
              "    .colab-df-convert {\n",
              "      background-color: #E8F0FE;\n",
              "      border: none;\n",
              "      border-radius: 50%;\n",
              "      cursor: pointer;\n",
              "      display: none;\n",
              "      fill: #1967D2;\n",
              "      height: 32px;\n",
              "      padding: 0 0 0 0;\n",
              "      width: 32px;\n",
              "    }\n",
              "\n",
              "    .colab-df-convert:hover {\n",
              "      background-color: #E2EBFA;\n",
              "      box-shadow: 0px 1px 2px rgba(60, 64, 67, 0.3), 0px 1px 3px 1px rgba(60, 64, 67, 0.15);\n",
              "      fill: #174EA6;\n",
              "    }\n",
              "\n",
              "    [theme=dark] .colab-df-convert {\n",
              "      background-color: #3B4455;\n",
              "      fill: #D2E3FC;\n",
              "    }\n",
              "\n",
              "    [theme=dark] .colab-df-convert:hover {\n",
              "      background-color: #434B5C;\n",
              "      box-shadow: 0px 1px 3px 1px rgba(0, 0, 0, 0.15);\n",
              "      filter: drop-shadow(0px 1px 2px rgba(0, 0, 0, 0.3));\n",
              "      fill: #FFFFFF;\n",
              "    }\n",
              "  </style>\n",
              "\n",
              "      <script>\n",
              "        const buttonEl =\n",
              "          document.querySelector('#df-4198e413-1a2c-406e-81de-a02daebefa8d button.colab-df-convert');\n",
              "        buttonEl.style.display =\n",
              "          google.colab.kernel.accessAllowed ? 'block' : 'none';\n",
              "\n",
              "        async function convertToInteractive(key) {\n",
              "          const element = document.querySelector('#df-4198e413-1a2c-406e-81de-a02daebefa8d');\n",
              "          const dataTable =\n",
              "            await google.colab.kernel.invokeFunction('convertToInteractive',\n",
              "                                                     [key], {});\n",
              "          if (!dataTable) return;\n",
              "\n",
              "          const docLinkHtml = 'Like what you see? Visit the ' +\n",
              "            '<a target=\"_blank\" href=https://colab.research.google.com/notebooks/data_table.ipynb>data table notebook</a>'\n",
              "            + ' to learn more about interactive tables.';\n",
              "          element.innerHTML = '';\n",
              "          dataTable['output_type'] = 'display_data';\n",
              "          await google.colab.output.renderOutput(dataTable, element);\n",
              "          const docLink = document.createElement('div');\n",
              "          docLink.innerHTML = docLinkHtml;\n",
              "          element.appendChild(docLink);\n",
              "        }\n",
              "      </script>\n",
              "    </div>\n",
              "  </div>\n",
              "  "
            ]
          },
          "metadata": {},
          "execution_count": 149
        }
      ]
    },
    {
      "cell_type": "code",
      "source": [
        "df.shape"
      ],
      "metadata": {
        "id": "4egQnW2ok_l_",
        "colab": {
          "base_uri": "https://localhost:8080/"
        },
        "outputId": "7b770019-d243-4a83-a6b5-ace1945cc849"
      },
      "execution_count": 150,
      "outputs": [
        {
          "output_type": "execute_result",
          "data": {
            "text/plain": [
              "(17075, 15)"
            ]
          },
          "metadata": {},
          "execution_count": 150
        }
      ]
    },
    {
      "cell_type": "code",
      "metadata": {
        "id": "ZQkBcgN9BiVr",
        "colab": {
          "base_uri": "https://localhost:8080/",
          "height": 225
        },
        "outputId": "eb6deae9-ae43-42ce-dcf7-b21c0c58db45"
      },
      "source": [
        "# dropping columns not required in preparation for modeling\n",
        "\n",
        "df.drop(columns=['host_id','host_name','neighbourhood','room_type','last_review'],inplace=True)\n",
        "print(df.shape)\n",
        "df.head(3)\n"
      ],
      "execution_count": 151,
      "outputs": [
        {
          "output_type": "stream",
          "name": "stdout",
          "text": [
            "(17075, 10)\n"
          ]
        },
        {
          "output_type": "execute_result",
          "data": {
            "text/plain": [
              "   latitude  longitude  price  minimum_nights  number_of_reviews  \\\n",
              "0  52.36575    4.94142     59               3                278   \n",
              "1  52.36509    4.89354    100               1                340   \n",
              "2  52.37297    4.88339    125              14                  5   \n",
              "\n",
              "   calculated_host_listings_count  availability_365  avg_price_per_room  \\\n",
              "0                               1               169          109.421504   \n",
              "1                               2               106          109.421504   \n",
              "2                               1               132          169.179967   \n",
              "\n",
              "   avg_price_per_neighbourhood  room_type_encode  \n",
              "0                   135.101163                 1  \n",
              "1                   190.534247                 1  \n",
              "2                   203.653397                 3  "
            ],
            "text/html": [
              "\n",
              "  <div id=\"df-e5394085-8bcc-4c69-b5e8-28a35b51ce34\">\n",
              "    <div class=\"colab-df-container\">\n",
              "      <div>\n",
              "<style scoped>\n",
              "    .dataframe tbody tr th:only-of-type {\n",
              "        vertical-align: middle;\n",
              "    }\n",
              "\n",
              "    .dataframe tbody tr th {\n",
              "        vertical-align: top;\n",
              "    }\n",
              "\n",
              "    .dataframe thead th {\n",
              "        text-align: right;\n",
              "    }\n",
              "</style>\n",
              "<table border=\"1\" class=\"dataframe\">\n",
              "  <thead>\n",
              "    <tr style=\"text-align: right;\">\n",
              "      <th></th>\n",
              "      <th>latitude</th>\n",
              "      <th>longitude</th>\n",
              "      <th>price</th>\n",
              "      <th>minimum_nights</th>\n",
              "      <th>number_of_reviews</th>\n",
              "      <th>calculated_host_listings_count</th>\n",
              "      <th>availability_365</th>\n",
              "      <th>avg_price_per_room</th>\n",
              "      <th>avg_price_per_neighbourhood</th>\n",
              "      <th>room_type_encode</th>\n",
              "    </tr>\n",
              "  </thead>\n",
              "  <tbody>\n",
              "    <tr>\n",
              "      <th>0</th>\n",
              "      <td>52.36575</td>\n",
              "      <td>4.94142</td>\n",
              "      <td>59</td>\n",
              "      <td>3</td>\n",
              "      <td>278</td>\n",
              "      <td>1</td>\n",
              "      <td>169</td>\n",
              "      <td>109.421504</td>\n",
              "      <td>135.101163</td>\n",
              "      <td>1</td>\n",
              "    </tr>\n",
              "    <tr>\n",
              "      <th>1</th>\n",
              "      <td>52.36509</td>\n",
              "      <td>4.89354</td>\n",
              "      <td>100</td>\n",
              "      <td>1</td>\n",
              "      <td>340</td>\n",
              "      <td>2</td>\n",
              "      <td>106</td>\n",
              "      <td>109.421504</td>\n",
              "      <td>190.534247</td>\n",
              "      <td>1</td>\n",
              "    </tr>\n",
              "    <tr>\n",
              "      <th>2</th>\n",
              "      <td>52.37297</td>\n",
              "      <td>4.88339</td>\n",
              "      <td>125</td>\n",
              "      <td>14</td>\n",
              "      <td>5</td>\n",
              "      <td>1</td>\n",
              "      <td>132</td>\n",
              "      <td>169.179967</td>\n",
              "      <td>203.653397</td>\n",
              "      <td>3</td>\n",
              "    </tr>\n",
              "  </tbody>\n",
              "</table>\n",
              "</div>\n",
              "      <button class=\"colab-df-convert\" onclick=\"convertToInteractive('df-e5394085-8bcc-4c69-b5e8-28a35b51ce34')\"\n",
              "              title=\"Convert this dataframe to an interactive table.\"\n",
              "              style=\"display:none;\">\n",
              "        \n",
              "  <svg xmlns=\"http://www.w3.org/2000/svg\" height=\"24px\"viewBox=\"0 0 24 24\"\n",
              "       width=\"24px\">\n",
              "    <path d=\"M0 0h24v24H0V0z\" fill=\"none\"/>\n",
              "    <path d=\"M18.56 5.44l.94 2.06.94-2.06 2.06-.94-2.06-.94-.94-2.06-.94 2.06-2.06.94zm-11 1L8.5 8.5l.94-2.06 2.06-.94-2.06-.94L8.5 2.5l-.94 2.06-2.06.94zm10 10l.94 2.06.94-2.06 2.06-.94-2.06-.94-.94-2.06-.94 2.06-2.06.94z\"/><path d=\"M17.41 7.96l-1.37-1.37c-.4-.4-.92-.59-1.43-.59-.52 0-1.04.2-1.43.59L10.3 9.45l-7.72 7.72c-.78.78-.78 2.05 0 2.83L4 21.41c.39.39.9.59 1.41.59.51 0 1.02-.2 1.41-.59l7.78-7.78 2.81-2.81c.8-.78.8-2.07 0-2.86zM5.41 20L4 18.59l7.72-7.72 1.47 1.35L5.41 20z\"/>\n",
              "  </svg>\n",
              "      </button>\n",
              "      \n",
              "  <style>\n",
              "    .colab-df-container {\n",
              "      display:flex;\n",
              "      flex-wrap:wrap;\n",
              "      gap: 12px;\n",
              "    }\n",
              "\n",
              "    .colab-df-convert {\n",
              "      background-color: #E8F0FE;\n",
              "      border: none;\n",
              "      border-radius: 50%;\n",
              "      cursor: pointer;\n",
              "      display: none;\n",
              "      fill: #1967D2;\n",
              "      height: 32px;\n",
              "      padding: 0 0 0 0;\n",
              "      width: 32px;\n",
              "    }\n",
              "\n",
              "    .colab-df-convert:hover {\n",
              "      background-color: #E2EBFA;\n",
              "      box-shadow: 0px 1px 2px rgba(60, 64, 67, 0.3), 0px 1px 3px 1px rgba(60, 64, 67, 0.15);\n",
              "      fill: #174EA6;\n",
              "    }\n",
              "\n",
              "    [theme=dark] .colab-df-convert {\n",
              "      background-color: #3B4455;\n",
              "      fill: #D2E3FC;\n",
              "    }\n",
              "\n",
              "    [theme=dark] .colab-df-convert:hover {\n",
              "      background-color: #434B5C;\n",
              "      box-shadow: 0px 1px 3px 1px rgba(0, 0, 0, 0.15);\n",
              "      filter: drop-shadow(0px 1px 2px rgba(0, 0, 0, 0.3));\n",
              "      fill: #FFFFFF;\n",
              "    }\n",
              "  </style>\n",
              "\n",
              "      <script>\n",
              "        const buttonEl =\n",
              "          document.querySelector('#df-e5394085-8bcc-4c69-b5e8-28a35b51ce34 button.colab-df-convert');\n",
              "        buttonEl.style.display =\n",
              "          google.colab.kernel.accessAllowed ? 'block' : 'none';\n",
              "\n",
              "        async function convertToInteractive(key) {\n",
              "          const element = document.querySelector('#df-e5394085-8bcc-4c69-b5e8-28a35b51ce34');\n",
              "          const dataTable =\n",
              "            await google.colab.kernel.invokeFunction('convertToInteractive',\n",
              "                                                     [key], {});\n",
              "          if (!dataTable) return;\n",
              "\n",
              "          const docLinkHtml = 'Like what you see? Visit the ' +\n",
              "            '<a target=\"_blank\" href=https://colab.research.google.com/notebooks/data_table.ipynb>data table notebook</a>'\n",
              "            + ' to learn more about interactive tables.';\n",
              "          element.innerHTML = '';\n",
              "          dataTable['output_type'] = 'display_data';\n",
              "          await google.colab.output.renderOutput(dataTable, element);\n",
              "          const docLink = document.createElement('div');\n",
              "          docLink.innerHTML = docLinkHtml;\n",
              "          element.appendChild(docLink);\n",
              "        }\n",
              "      </script>\n",
              "    </div>\n",
              "  </div>\n",
              "  "
            ]
          },
          "metadata": {},
          "execution_count": 151
        }
      ]
    },
    {
      "cell_type": "markdown",
      "metadata": {
        "id": "l1ciT2WtBiVv"
      },
      "source": [
        "# <font color='#2F4F4F'>4. Data Modeling</font>"
      ]
    },
    {
      "cell_type": "code",
      "metadata": {
        "id": "p5etKU12BiVv"
      },
      "source": [
        "# split into features (X) and label (Y)\n",
        "\n",
        "\n",
        "X = df.drop(['price'], axis=1)  #Independent/predictor variables\n",
        "y = df['price']  # Dependent/label variable\n",
        "\n"
      ],
      "execution_count": 152,
      "outputs": []
    },
    {
      "cell_type": "code",
      "metadata": {
        "id": "6HBMvY_IBiVy",
        "colab": {
          "base_uri": "https://localhost:8080/"
        },
        "outputId": "9c0bb65f-f91b-480a-e2d5-aca5b5c59b4c"
      },
      "source": [
        "# split into 70-30 train and test sets\n",
        "\n",
        "from sklearn.model_selection import train_test_split\n",
        "\n",
        "X_train, X_test, y_train, y_test = train_test_split(X, y, test_size = 0.30, random_state = 0)\n",
        "\n",
        "\n",
        "#confirm size of datasets\n",
        "print(df.shape)\n",
        "print(X_train.shape)\n",
        "print(X_test.shape)\n",
        "print(y_train.shape)\n",
        "print(y_test.shape)"
      ],
      "execution_count": 153,
      "outputs": [
        {
          "output_type": "stream",
          "name": "stdout",
          "text": [
            "(17075, 10)\n",
            "(11952, 9)\n",
            "(5123, 9)\n",
            "(11952,)\n",
            "(5123,)\n"
          ]
        }
      ]
    },
    {
      "cell_type": "code",
      "metadata": {
        "id": "FYjh75alBiV0"
      },
      "source": [
        "# scaling our features\n",
        "\n",
        "\n",
        "from sklearn.preprocessing import MinMaxScaler  \n",
        "norm = MinMaxScaler().fit(X_train) \n",
        "X_train = norm.transform(X_train) \n",
        "X_test = norm.transform(X_test)\n"
      ],
      "execution_count": 154,
      "outputs": []
    },
    {
      "cell_type": "markdown",
      "metadata": {
        "id": "hxoyP6JvBiV3"
      },
      "source": [
        "For purposes of simplicity, we will work with the following regressors:\n",
        "* Decision Tree Regressor\n",
        "* Random Forest Regressor"
      ]
    },
    {
      "cell_type": "markdown",
      "metadata": {
        "id": "es4RooNMBiV4"
      },
      "source": [
        "## 4.1 Normal Modeling"
      ]
    },
    {
      "cell_type": "code",
      "metadata": {
        "id": "9oqDHFgQBiV4",
        "colab": {
          "base_uri": "https://localhost:8080/"
        },
        "outputId": "2539ff83-071e-434d-8bd3-900484af552a"
      },
      "source": [
        "# loading our regressors\n",
        "from sklearn.tree import DecisionTreeRegressor\n",
        "from sklearn.ensemble import RandomForestRegressor\n",
        "\n",
        "\n",
        "# import the scoring metrics\n",
        "\n",
        "from sklearn.metrics import r2_score\n",
        "from sklearn.metrics import mean_squared_error\n",
        "from math import sqrt\n",
        "\n",
        "# instantiating our regressors\n",
        "\n",
        "decision_classifier = DecisionTreeRegressor(random_state=1)\n",
        "random_forest = RandomForestRegressor(random_state=1)\n",
        "\n",
        "\n",
        "# fitting to our training data\n",
        "decision_classifier.fit(X_train, y_train)\n",
        "random_forest.fit(X_train, y_train)\n",
        "\n",
        "# making predictions\n",
        "decision_y_prediction = decision_classifier.predict(X_test)\n",
        "random_forest_prediction = random_forest.predict(X_test)\n",
        "\n",
        "# evaluating the RMSE score\n",
        "\n",
        "decision_classifier_rmse = np.sqrt(mean_squared_error(y_test,decision_y_prediction))\n",
        "random_forest_rmse = np.sqrt(mean_squared_error(y_test,random_forest_prediction))\n",
        "print('Decision Tree RMSE:', decision_classifier_rmse)\n",
        "print('Random Forest RMSE:', random_forest_rmse)\n",
        "\n",
        "\n",
        "# evaluating the R2 scores\n",
        "\n",
        "decision_classifier_R2 = r2_score(y_test,decision_y_prediction)\n",
        "random_forest_R2 = r2_score(y_test,random_forest_prediction)\n",
        "print('Decision Tree R2_SCORE:', decision_classifier_R2)\n",
        "print('Random Forest R2_SCORE:', random_forest_R2)\n",
        "\n"
      ],
      "execution_count": 159,
      "outputs": [
        {
          "output_type": "stream",
          "name": "stdout",
          "text": [
            "Decision Tree RMSE: 170.6556136596469\n",
            "Random Forest RMSE: 105.06426156327947\n",
            "Decision Tree R2_SCORE: -2.0016927984924386\n",
            "Random Forest R2_SCORE: -0.13771926107192134\n"
          ]
        }
      ]
    },
    {
      "cell_type": "markdown",
      "source": [
        "R2 score is far from 1 hence this models need improvement.\n",
        "\n",
        "Random forest has a lower RMSE hence a better fit than decision tree model."
      ],
      "metadata": {
        "id": "usVqYDxdxAX-"
      }
    },
    {
      "cell_type": "code",
      "metadata": {
        "id": "ePws3a5SBiV8",
        "colab": {
          "base_uri": "https://localhost:8080/"
        },
        "outputId": "206db7f0-687a-47fd-8511-8cebd72d487e"
      },
      "source": [
        "# 10% of target variable's mean\n",
        "mean_price = y.mean()\n",
        "mean_price * 0.1"
      ],
      "execution_count": 158,
      "outputs": [
        {
          "output_type": "execute_result",
          "data": {
            "text/plain": [
              "15.788029282576867"
            ]
          },
          "metadata": {},
          "execution_count": 158
        }
      ]
    },
    {
      "cell_type": "markdown",
      "metadata": {
        "id": "dvgQU_reBiV_"
      },
      "source": [
        "Record your observations."
      ]
    },
    {
      "cell_type": "markdown",
      "source": [
        "Both models give an RMSE that is lower than 10% of the mean price indicating lower accuracy"
      ],
      "metadata": {
        "id": "TCTtMZ2txMtj"
      }
    },
    {
      "cell_type": "markdown",
      "metadata": {
        "id": "Vk7x7utuBiV_"
      },
      "source": [
        "## 4.2 Modeling with Grid Search"
      ]
    },
    {
      "cell_type": "code",
      "metadata": {
        "id": "QPm9K21BBiWA",
        "colab": {
          "base_uri": "https://localhost:8080/"
        },
        "outputId": "81435359-b985-47ed-8e75-830d36a5d487"
      },
      "source": [
        "from sklearn.model_selection import GridSearchCV\n",
        "dt_model = DecisionTreeRegressor(random_state=42)\n",
        "rf_model = RandomForestRegressor(random_state=42)\n",
        "\n",
        "# grid parameters for decision trees\n",
        "dt_grid_param = {\n",
        "    'max_depth': [10, 20, 30, 40, 50, None],\n",
        "    'min_samples_leaf': [10, 20, 30, 40, 50]\n",
        "}\n",
        "\n",
        "# grid parameters for random forest\n",
        "rf_grid_param = {\n",
        "    'max_depth': [10, 20, 30, 40, 50,None],\n",
        "    \"n_estimators\": [10, 20, 30, 40, 50],\n",
        "    'min_samples_leaf': [10, 20, 30, 40, 50]\n",
        "}\n",
        "# setting up the Grid Search with our regressors with cv = 5 and n_jobs = -1\n",
        "\n",
        "# decision tree Grid Search\n",
        "gd_sr_dt = GridSearchCV(estimator = dt_model,\n",
        "                     param_grid = dt_grid_param,\n",
        "                     scoring = ['neg_root_mean_squared_error','r2'],\n",
        "                     cv = 5,\n",
        "                     refit = 'neg_root_mean_squared_error',\n",
        "                     verbose = 2,\n",
        "                     n_jobs =-1)\n",
        "# Random forest Grid Search\n",
        "gd_sr_rf = GridSearchCV(estimator = rf_model,\n",
        "                     param_grid = rf_grid_param,\n",
        "                     scoring = ['neg_root_mean_squared_error','r2'],\n",
        "                     cv = 5,\n",
        "                     refit = 'neg_root_mean_squared_error',\n",
        "                     verbose = 2,\n",
        "                     n_jobs =-1)\n",
        "# fitting to training data\n",
        "\n",
        "gd_sr_dt.fit(X_train, y_train)\n",
        "gd_sr_rf.fit(X_train, y_train)\n",
        "\n",
        "# getting the best parameters\n",
        "\n",
        "best_parameters_dt = gd_sr_dt.best_params_\n",
        "best_parameters_rf = gd_sr_rf.best_params_\n",
        "print('Decision Tree Best Parameters')\n",
        "print(best_parameters_dt)\n",
        "print('Random Forest Best Parameters')\n",
        "print(best_parameters_rf)"
      ],
      "execution_count": 161,
      "outputs": [
        {
          "output_type": "stream",
          "name": "stdout",
          "text": [
            "Fitting 5 folds for each of 30 candidates, totalling 150 fits\n",
            "Fitting 5 folds for each of 150 candidates, totalling 750 fits\n",
            "Decision Tree Best Parameters\n",
            "{'max_depth': 10, 'min_samples_leaf': 50}\n",
            "Random Forest Best Parameters\n",
            "{'max_depth': 20, 'min_samples_leaf': 40, 'n_estimators': 50}\n"
          ]
        }
      ]
    },
    {
      "cell_type": "code",
      "source": [
        "# get the score for decision tree\n",
        "best_result_dt = gd_sr_dt.best_score_\n",
        "print(best_result_dt)"
      ],
      "metadata": {
        "colab": {
          "base_uri": "https://localhost:8080/"
        },
        "id": "9uJffIAhy1vD",
        "outputId": "e05ff6d0-52b8-478b-d2b5-6a3c80720dd5"
      },
      "execution_count": 162,
      "outputs": [
        {
          "output_type": "stream",
          "name": "stdout",
          "text": [
            "-159.98163176148478\n"
          ]
        }
      ]
    },
    {
      "cell_type": "markdown",
      "source": [
        "The RMSE from decision tree reduced from 170.6 to 159.98 after tuning using Grid Search model."
      ],
      "metadata": {
        "id": "GNS_noByyF2y"
      }
    },
    {
      "cell_type": "code",
      "source": [
        "# get the score for random forest\n",
        "best_result_rf = gd_sr_rf.best_score_\n",
        "print(best_result_rf)"
      ],
      "metadata": {
        "colab": {
          "base_uri": "https://localhost:8080/"
        },
        "id": "xR5TWNdhzHzU",
        "outputId": "59c524c9-8559-480e-ec59-a98336927cb0"
      },
      "execution_count": 163,
      "outputs": [
        {
          "output_type": "stream",
          "name": "stdout",
          "text": [
            "-156.43186827388615\n"
          ]
        }
      ]
    },
    {
      "cell_type": "markdown",
      "source": [
        "Random forest RMSE increased slightly from 105.06 to 156.43 after Grid search tuning, however random forest remaining the better model\n",
        "\n"
      ],
      "metadata": {
        "id": "6FGDnl2GzInL"
      }
    },
    {
      "cell_type": "code",
      "source": [
        "# implementing this recommendation\n",
        "\n",
        "# instantiating our regressors with the recommended parameters\n",
        "\n",
        "dt_model = DecisionTreeRegressor(random_state=1,max_depth=10, min_samples_leaf=40)\n",
        "rf_model = RandomForestRegressor(random_state=1,max_depth=20, min_samples_leaf=50, n_estimators=20)\n",
        "\n",
        "# fitting to our training data\n",
        "\n",
        "dt_model.fit(X_train, y_train)\n",
        "rf_model.fit(X_train, y_train)\n",
        "\n",
        "# making predictions\n",
        "\n",
        "dt_pred = dt_model.predict(X_test)\n",
        "rf_pred = rf_model.predict(X_test)\n",
        "\n",
        "# evaluating the RMSE and R2 scores\n",
        "\n",
        "# calculate RMSE\n",
        "dt_rmse = np.sqrt(mean_squared_error(y_test,dt_pred))\n",
        "rf_rmse = np.sqrt(mean_squared_error(y_test,rf_pred))\n",
        "print('Decision Tree RMSE:', dt_rmse)\n",
        "print('Random Forest RMSE:', rf_rmse)\n",
        "\n",
        "# calculate R2 Score\n",
        "dt_r2 = r2_score(y_test,dt_pred)\n",
        "rf_r2 = r2_score(y_test,rf_pred)\n",
        "print('Decision Tree R2 Score:', dt_r2)\n",
        "print('Random Forest R2 Score:', rf_r2)"
      ],
      "metadata": {
        "colab": {
          "base_uri": "https://localhost:8080/"
        },
        "id": "jFDzYTm1zPJU",
        "outputId": "f771c6d9-0316-4621-b3ac-2b7482fd5192"
      },
      "execution_count": 164,
      "outputs": [
        {
          "output_type": "stream",
          "name": "stdout",
          "text": [
            "Decision Tree RMSE: 97.71283370810546\n",
            "Random Forest RMSE: 90.1975646447958\n",
            "Decision Tree R2 Score: 0.01592476639742557\n",
            "Random Forest R2 Score: 0.1614775222874827\n"
          ]
        }
      ]
    },
    {
      "cell_type": "markdown",
      "source": [
        "The RMSE from decision tree reduced from 170.65 to 97.71 after using the the best parameters from the Grid search tuning\n",
        "\n",
        "Random forest RMSE reduced from 105.06 to 90.19 after using the the best parameters from the Grid search tuning\n",
        "\n"
      ],
      "metadata": {
        "id": "5hDf29M4zTPk"
      }
    },
    {
      "cell_type": "markdown",
      "metadata": {
        "id": "YuFQMJceBiWF"
      },
      "source": [
        "## 4.3 Modeling with Random Search"
      ]
    },
    {
      "cell_type": "code",
      "source": [
        "# setting up our parameters and the respective distributions to sample from\n",
        "# YOUR CODE HERE\n",
        "from scipy.stats import randint as sp_randint\n",
        "# grid parameters for decision trees\n",
        "dt_random_param = {\n",
        "    'max_depth': [10, 20, 30, 40, 50, None],\n",
        "    'min_samples_leaf': sp_randint(1, 50)\n",
        "}\n",
        "# grid parameters for random forest\n",
        "rf_random_param = {\n",
        "    'max_depth': [10, 20, 30, 40, 50,None],\n",
        "    \"n_estimators\": sp_randint(1, 50),\n",
        "    'min_samples_leaf': sp_randint(1, 50)\n",
        "}\n",
        "\n",
        "# setting up Randomized Search for each regressor   with cv = 5\n",
        "# YOUR CODE HERE\n",
        "from sklearn.model_selection import RandomizedSearchCV \n",
        "dt_model = DecisionTreeRegressor(random_state=42)\n",
        "rf_model = RandomForestRegressor(random_state=42)\n",
        "\n",
        "random_dt = RandomizedSearchCV(dt_model, \n",
        "                               dt_random_param, \n",
        "                               cv = 5,\n",
        "                               scoring = ['neg_root_mean_squared_error','r2'],\n",
        "                               refit = 'neg_root_mean_squared_error',\n",
        "                               n_jobs=-1,\n",
        "                               random_state=1\n",
        "                               )\n",
        "random_rf = RandomizedSearchCV(rf_model,                                \n",
        "                               rf_random_param, \n",
        "                               cv = 5,\n",
        "                               scoring = ['neg_root_mean_squared_error','r2'],\n",
        "                               refit = 'neg_root_mean_squared_error',\n",
        "                               n_jobs=-1,\n",
        "                               random_state=1\n",
        "                               )\n",
        "\n",
        "# fitting to training data\n",
        "# YOUR CODE HERE\n",
        "random_dt.fit(X_train, y_train)\n",
        "random_rf.fit(X_train, y_train)\n",
        "\n",
        "# getting the best parameters\n",
        "# YOUR CODE HERE\n",
        "best_parameters_dt = random_dt.best_params_\n",
        "print('Decision Tree Best Parameters (Random Search): ',best_parameters_dt)\n",
        "\n",
        "best_parameters_rf = random_rf.best_params_\n",
        "print('Random Forest Best Parameters (Random Search): ',best_parameters_rf)\n",
        "\n",
        "# And lastly obtaining our accuracy\n",
        "best_result_dt = random_dt.best_score_\n",
        "print('Decision Tree Accuracy (Random Search): ',best_result_dt)\n",
        "\n",
        "best_result_rf = random_rf.best_score_\n",
        "print('Random Forest Accuracy (Random Search): ',best_result_rf)"
      ],
      "metadata": {
        "colab": {
          "base_uri": "https://localhost:8080/"
        },
        "id": "FYulFeOmzZ8M",
        "outputId": "be5c9618-3957-4c1e-b410-43d2de48c803"
      },
      "execution_count": 165,
      "outputs": [
        {
          "output_type": "stream",
          "name": "stdout",
          "text": [
            "Decision Tree Best Parameters (Random Search):  {'max_depth': None, 'min_samples_leaf': 44}\n",
            "Random Forest Best Parameters (Random Search):  {'max_depth': None, 'min_samples_leaf': 44, 'n_estimators': 13}\n",
            "Decision Tree Accuracy (Random Search):  -160.788781685421\n",
            "Random Forest Accuracy (Random Search):  -156.50831615915553\n"
          ]
        }
      ]
    },
    {
      "cell_type": "markdown",
      "source": [
        "The RMSE from decision tree increased from 170.65 to -160.78 after tuning using Random Search\n",
        "\n",
        "Random forest RMSE increased from 105.06 to 156.50 after tuning using Random Search"
      ],
      "metadata": {
        "id": "eMRaHFKHzZzz"
      }
    },
    {
      "cell_type": "code",
      "source": [
        "# implementing this recommendation\n",
        "\n",
        "# instantiating our regressors with the recommended parameters\n",
        "\n",
        "dt_model = DecisionTreeRegressor(random_state=1,max_depth=None, min_samples_leaf=44)\n",
        "rf_model = RandomForestRegressor(random_state=1,max_depth=50, min_samples_leaf=43, n_estimators=29)\n",
        "\n",
        "# fitting to our training data\n",
        "\n",
        "dt_model.fit(X_train, y_train)\n",
        "rf_model.fit(X_train, y_train)\n",
        "\n",
        "# making predictions\n",
        "\n",
        "dt_pred = dt_model.predict(X_test)\n",
        "rf_pred = rf_model.predict(X_test)\n",
        "\n",
        "# evaluating the RMSE and R2 scores\n",
        "\n",
        "# calculate RMSE\n",
        "dt_rmse = np.sqrt(mean_squared_error(y_test,dt_pred))\n",
        "rf_rmse = np.sqrt(mean_squared_error(y_test,rf_pred))\n",
        "print('Decision Tree RMSE after Random Search:', dt_rmse)\n",
        "print('Random Forest RMSE after Random Search:', rf_rmse)\n",
        "\n",
        "# calculate R2 Score\n",
        "dt_r2 = r2_score(y_test,dt_pred)\n",
        "rf_r2 = r2_score(y_test,rf_pred)\n",
        "print('Decision Tree R2 Score after Random Search:', dt_r2)\n",
        "print('Random Forest R2 Score after Random Search:', rf_r2)"
      ],
      "metadata": {
        "colab": {
          "base_uri": "https://localhost:8080/"
        },
        "id": "Ctqi0BORzhAD",
        "outputId": "c1409d15-1606-4778-bc48-74564dfccf94"
      },
      "execution_count": 166,
      "outputs": [
        {
          "output_type": "stream",
          "name": "stdout",
          "text": [
            "Decision Tree RMSE after Random Search: 97.41828075462428\n",
            "Random Forest RMSE after Random Search: 90.09191877853006\n",
            "Decision Tree R2 Score after Random Search: 0.021848765613421417\n",
            "Random Forest R2 Score after Random Search: 0.16344064744486342\n"
          ]
        }
      ]
    },
    {
      "cell_type": "markdown",
      "source": [
        "The RMSE from decision tree reduced from 170.65 to 97.41 after using the the best parameters from the Random search tuning.\n",
        "\n",
        "Random forest RMSE reduced from 105.06 to 90.09 after using the the best parameters from the Random search tuning.\n"
      ],
      "metadata": {
        "id": "54nt5MyyziVt"
      }
    },
    {
      "cell_type": "markdown",
      "source": [
        "## 4.4 Modeling with Bayesian Optimization"
      ],
      "metadata": {
        "id": "QGYl-ceZyOxz"
      }
    },
    {
      "cell_type": "code",
      "source": [
        "# importing the hyperopt library and cross_val_score\n",
        "# YOUR CODE HERE\n",
        "from hyperopt import hp, fmin, tpe, STATUS_OK\n",
        "\n",
        "# setting up a space dictionary\n",
        "# YOUR CODE HERE\n",
        "dt_space = {'max_depth': hp.quniform('max_depth', 10, 1200, 10), \n",
        "        'min_samples_leaf': hp.uniform ('min_samples_leaf', 0, 0.5)}\n",
        "def dt_objective(space): \n",
        "    model = DecisionTreeRegressor(max_depth = space['max_depth'],\n",
        "                                 min_samples_leaf = space['min_samples_leaf'])\n",
        "    # print(classifier)\n",
        "    model.fit(X_train, y_train) \n",
        "    y_pred = model.predict(X_test) \n",
        "    rmse = np.sqrt(mean_squared_error(y_test,y_pred=y_pred))\n",
        "    # We aim to maximize accuracy; in this case we return it as a negative value\n",
        "    return {'loss': -rmse, 'status': STATUS_OK }\n",
        "\n",
        "# 3. Running our bayesian optimizer\n",
        "# ---\n",
        "#\n",
        "best_dt = fmin(fn= dt_objective,                        # the objective function to miminize / the loss function to minimize\n",
        "            space = dt_space,                        # the range of input values to test during optimisation\n",
        "            algo= tpe.suggest,                    # the search algorithm to use\n",
        "            max_evals = 80,                       # the no. of iteration to perform\n",
        "            rstate=np.random.RandomState(42))     # the randomstate for reproducability / to get the same result when we run the code\n",
        "\n",
        "# printing out our outcome\n",
        "best_dt"
      ],
      "metadata": {
        "colab": {
          "base_uri": "https://localhost:8080/"
        },
        "id": "yvNt2mLcyUXY",
        "outputId": "a06b1736-637e-4f25-819f-5adcbfdb5023"
      },
      "execution_count": 167,
      "outputs": [
        {
          "output_type": "stream",
          "name": "stdout",
          "text": [
            "100%|██████████| 80/80 [00:02<00:00, 37.01it/s, best loss: -114.07946702573946]\n"
          ]
        },
        {
          "output_type": "execute_result",
          "data": {
            "text/plain": [
              "{'max_depth': 1020.0, 'min_samples_leaf': 0.00036131692431207933}"
            ]
          },
          "metadata": {},
          "execution_count": 167
        }
      ]
    },
    {
      "cell_type": "code",
      "source": [
        "# importing the hyperopt library and cross_val_score\n",
        "# YOUR CODE HERE\n",
        "from hyperopt import hp, fmin, tpe, STATUS_OK\n",
        "\n",
        "# setting up a space dictionary\n",
        "# YOUR CODE HERE\n",
        "rf_space = {'max_depth': hp.quniform('max_depth', 10, 1200, 10), \n",
        "        'min_samples_leaf': hp.uniform ('min_samples_leaf', 0, 0.5),\n",
        "        \"n_estimators\": hp.choice ('n_estimators', range(10,1200))\n",
        "        }\n",
        "def rf_objective(space): \n",
        "    model = RandomForestRegressor(max_depth = space['max_depth'],\n",
        "                                 min_samples_leaf = space['min_samples_leaf'],\n",
        "                                  n_estimators = space['n_estimators'])\n",
        "    # print(classifier)\n",
        "    model.fit(X_train, y_train) \n",
        "    y_pred = model.predict(X_test) \n",
        "    rmse = np.sqrt(mean_squared_error(y_test,y_pred=y_pred))\n",
        "    # We aim to maximize accuracy; in this case we return it as a negative value\n",
        "    return {'loss': -rmse, 'status': STATUS_OK }\n",
        "\n",
        "# 3. Running our bayesian optimizer\n",
        "# ---\n",
        "#\n",
        "best_rf = fmin(fn= rf_objective,                        # the objective function to miminize / the loss function to minimize\n",
        "            space = rf_space,                        # the range of input values to test during optimisation\n",
        "            algo= tpe.suggest,                    # the search algorithm to use\n",
        "            max_evals = 80,                       # the no. of iteration to perform\n",
        "            rstate=np.random.RandomState(42))     # the randomstate for reproducability / to get the same result when we run the code\n",
        "\n",
        "# printing out our outcome\n",
        "best_rf"
      ],
      "metadata": {
        "colab": {
          "base_uri": "https://localhost:8080/"
        },
        "id": "BIMZ4g-iyZt_",
        "outputId": "7f59c2b9-0edc-41af-bef9-f653715a427c"
      },
      "execution_count": 168,
      "outputs": [
        {
          "output_type": "stream",
          "name": "stdout",
          "text": [
            "100%|██████████| 80/80 [02:55<00:00,  2.20s/it, best loss: -98.63495217723357]\n"
          ]
        },
        {
          "output_type": "execute_result",
          "data": {
            "text/plain": [
              "{'max_depth': 550.0,\n",
              " 'min_samples_leaf': 0.4441137024756094,\n",
              " 'n_estimators': 177}"
            ]
          },
          "metadata": {},
          "execution_count": 168
        }
      ]
    },
    {
      "cell_type": "code",
      "source": [
        "# implementing this recommendation\n",
        "\n",
        "# instantiating our regressors with the recommended parameters\n",
        "# YOUR CODE HERE\n",
        "dt_model = DecisionTreeRegressor(random_state=1,max_depth=370, min_samples_leaf=0.50)\n",
        "rf_model = RandomForestRegressor(random_state=1,max_depth=650, min_samples_leaf=0.33, n_estimators=123)\n",
        "\n",
        "# fitting to our training data\n",
        "# YOUR CODE HERE\n",
        "dt_model.fit(X_train, y_train)\n",
        "rf_model.fit(X_train, y_train)\n",
        "\n",
        "# making predictions\n",
        "# YOUR CODE HERE\n",
        "dt_pred = dt_model.predict(X_test)\n",
        "rf_pred = rf_model.predict(X_test)\n",
        "\n",
        "# evaluating the RMSE and R2 scores\n",
        "# YOUR CODE HERE\n",
        "# calculate RMSE\n",
        "dt_rmse = np.sqrt(mean_squared_error(y_test,dt_pred))\n",
        "rf_rmse = np.sqrt(mean_squared_error(y_test,rf_pred))\n",
        "print('Decision Tree RMSE after Bayesian Optimization:', dt_rmse)\n",
        "print('Random Forest RMSE after Bayesian Optimization:', rf_rmse)\n",
        "\n",
        "# calculate R2 Score\n",
        "dt_r2 = r2_score(y_test,dt_pred)\n",
        "rf_r2 = r2_score(y_test,rf_pred)\n",
        "print('Decision Tree R2 Score after Bayesian Optimization:', dt_r2)\n",
        "print('Random Forest R2 Score after Bayesian Optimization:', rf_r2)"
      ],
      "metadata": {
        "colab": {
          "base_uri": "https://localhost:8080/"
        },
        "id": "Gc1bpemlyd9U",
        "outputId": "41288ed0-1758-4c24-84a8-2d15405b17ef"
      },
      "execution_count": 169,
      "outputs": [
        {
          "output_type": "stream",
          "name": "stdout",
          "text": [
            "Decision Tree RMSE after Bayesian Optimization: 98.67087455544596\n",
            "Random Forest RMSE after Bayesian Optimization: 98.61242362028145\n",
            "Decision Tree R2 Score after Bayesian Optimization: -0.003466874864634484\n",
            "Random Forest R2 Score after Bayesian Optimization: -0.0022783538381485613\n"
          ]
        }
      ]
    },
    {
      "cell_type": "markdown",
      "source": [
        "The RMSE from decision tree reduced from 170.655 to 98.67 after using the the best parameters from the Bayesian Optimization\n",
        "\n",
        "Random forest RMSE increased from 105.06 to 98.61 after using the the best parameters from the Bayesian Optimization\n",
        "\n"
      ],
      "metadata": {
        "id": "xGaVI6cTygya"
      }
    },
    {
      "cell_type": "markdown",
      "metadata": {
        "id": "YFoZdpZaBiWX"
      },
      "source": [
        "# <font color='#2F4F4F'>5. Summary of Findings</font>\n",
        "\n",
        "Summarize your findings."
      ]
    },
    {
      "cell_type": "markdown",
      "source": [
        "Our best model is Random Forest that has been optimized using Random Search with an RMSE of 90.09"
      ],
      "metadata": {
        "id": "ZcCahHByztgn"
      }
    },
    {
      "cell_type": "markdown",
      "metadata": {
        "id": "8l8X81g0BiWY"
      },
      "source": [
        "# <font color='#2F4F4F'>6. Recommendations</font>\n",
        "\n",
        "Provide your recommendations."
      ]
    },
    {
      "cell_type": "markdown",
      "source": [
        "The Airbnb should use random forest predictions to predict rental prices"
      ],
      "metadata": {
        "id": "K5tluqUWzwY-"
      }
    },
    {
      "cell_type": "markdown",
      "metadata": {
        "id": "YQD7_7o8BiWZ"
      },
      "source": [
        "# <font color='#2F4F4F'>7. Challenging your Solution</font>\n",
        "\n",
        "### a) Did we have the right question? \n",
        "yes, we have the right question\n",
        "\n",
        "\n",
        "### b) Did we have the right data? \n",
        "yes we got the right data\n",
        "\n",
        "\n",
        "### c) What can be done to improve the solution?\n",
        "More hyperparameter tuning or use other regression analysis models."
      ]
    }
  ]
}